{
  "cells": [
    {
      "cell_type": "markdown",
      "metadata": {
        "id": "layMu9jgTYFB"
      },
      "source": [
        "# Q1"
      ]
    },
    {
      "cell_type": "markdown",
      "metadata": {
        "id": "5qpnrT-3TiyZ"
      },
      "source": [
        "## Part1: Preprocessing"
      ]
    },
    {
      "cell_type": "markdown",
      "metadata": {
        "id": "q7gF25vD-ckv"
      },
      "source": [
        "### Import data"
      ]
    },
    {
      "cell_type": "code",
      "execution_count": 1,
      "metadata": {
        "id": "2IfcpAzeK9jg"
      },
      "outputs": [],
      "source": [
        "import torch\n",
        "import os\n",
        "import torchvision\n",
        "import numpy as np\n",
        "from torchvision import datasets, transforms\n",
        "from torch.utils.data import Subset, DataLoader\n",
        "from PIL import Image\n",
        "import torch.nn as nn\n",
        "import torch.optim as optim\n",
        "import matplotlib.pyplot as plt\n",
        "from tqdm import tqdm\n",
        "import torch.nn.functional as F\n",
        "import seaborn as sns\n",
        "from timeit import default_timer as timer"
      ]
    },
    {
      "cell_type": "markdown",
      "metadata": {
        "id": "nWrz2EQDTsfp"
      },
      "source": [
        "### Define transforms"
      ]
    },
    {
      "cell_type": "code",
      "execution_count": 2,
      "metadata": {
        "id": "NBTmdE2OUfn4"
      },
      "outputs": [],
      "source": [
        "mean, std = 0.5, 0.5\n",
        "\n",
        "transform = transforms.Compose([\n",
        "    transforms.RandomHorizontalFlip(p=0.5),\n",
        "    transforms.ToTensor(),\n",
        "    transforms.Normalize((mean,), (std,))\n",
        "])"
      ]
    },
    {
      "cell_type": "markdown",
      "metadata": {
        "id": "gE5pFNy0qbI8"
      },
      "source": [
        "### Download datasets and save into `train_dataset` and `test_dataset`"
      ]
    },
    {
      "cell_type": "code",
      "execution_count": 3,
      "metadata": {
        "colab": {
          "base_uri": "https://localhost:8080/"
        },
        "id": "eP0l6n57UEP-",
        "outputId": "fb29e427-2296-47d0-d0c2-6306428e4dfb"
      },
      "outputs": [
        {
          "output_type": "stream",
          "name": "stdout",
          "text": [
            "Downloading http://fashion-mnist.s3-website.eu-central-1.amazonaws.com/train-images-idx3-ubyte.gz\n",
            "Downloading http://fashion-mnist.s3-website.eu-central-1.amazonaws.com/train-images-idx3-ubyte.gz to data/FashionMNIST/raw/train-images-idx3-ubyte.gz\n"
          ]
        },
        {
          "output_type": "stream",
          "name": "stderr",
          "text": [
            "100%|██████████| 26421880/26421880 [00:02<00:00, 13206703.39it/s]\n"
          ]
        },
        {
          "output_type": "stream",
          "name": "stdout",
          "text": [
            "Extracting data/FashionMNIST/raw/train-images-idx3-ubyte.gz to data/FashionMNIST/raw\n",
            "\n",
            "Downloading http://fashion-mnist.s3-website.eu-central-1.amazonaws.com/train-labels-idx1-ubyte.gz\n",
            "Downloading http://fashion-mnist.s3-website.eu-central-1.amazonaws.com/train-labels-idx1-ubyte.gz to data/FashionMNIST/raw/train-labels-idx1-ubyte.gz\n"
          ]
        },
        {
          "output_type": "stream",
          "name": "stderr",
          "text": [
            "100%|██████████| 29515/29515 [00:00<00:00, 206621.65it/s]\n"
          ]
        },
        {
          "output_type": "stream",
          "name": "stdout",
          "text": [
            "Extracting data/FashionMNIST/raw/train-labels-idx1-ubyte.gz to data/FashionMNIST/raw\n",
            "\n",
            "Downloading http://fashion-mnist.s3-website.eu-central-1.amazonaws.com/t10k-images-idx3-ubyte.gz\n",
            "Downloading http://fashion-mnist.s3-website.eu-central-1.amazonaws.com/t10k-images-idx3-ubyte.gz to data/FashionMNIST/raw/t10k-images-idx3-ubyte.gz\n"
          ]
        },
        {
          "output_type": "stream",
          "name": "stderr",
          "text": [
            "100%|██████████| 4422102/4422102 [00:01<00:00, 3940033.37it/s]\n"
          ]
        },
        {
          "output_type": "stream",
          "name": "stdout",
          "text": [
            "Extracting data/FashionMNIST/raw/t10k-images-idx3-ubyte.gz to data/FashionMNIST/raw\n",
            "\n",
            "Downloading http://fashion-mnist.s3-website.eu-central-1.amazonaws.com/t10k-labels-idx1-ubyte.gz\n",
            "Downloading http://fashion-mnist.s3-website.eu-central-1.amazonaws.com/t10k-labels-idx1-ubyte.gz to data/FashionMNIST/raw/t10k-labels-idx1-ubyte.gz\n"
          ]
        },
        {
          "output_type": "stream",
          "name": "stderr",
          "text": [
            "100%|██████████| 5148/5148 [00:00<00:00, 23418955.52it/s]"
          ]
        },
        {
          "output_type": "stream",
          "name": "stdout",
          "text": [
            "Extracting data/FashionMNIST/raw/t10k-labels-idx1-ubyte.gz to data/FashionMNIST/raw\n",
            "\n"
          ]
        },
        {
          "output_type": "stream",
          "name": "stderr",
          "text": [
            "\n"
          ]
        }
      ],
      "source": [
        "train_dataset_FashionMNIST = torchvision.datasets.FashionMNIST(\n",
        "    root = \"data\", # where to download data to\n",
        "    train = True, # get training data\n",
        "    download = True, # download data if it doesn't exist on disk\n",
        "    transform = transform # images come as PIL format, we want to turn into Torch tensors\n",
        ")\n",
        "\n",
        "test_dataset_FashionMNIST = torchvision.datasets.FashionMNIST(\n",
        "    root = \"data\",\n",
        "    train = False, # get test data\n",
        "    download = True,\n",
        "    transform = transform\n",
        ")"
      ]
    },
    {
      "cell_type": "code",
      "execution_count": 4,
      "metadata": {
        "colab": {
          "base_uri": "https://localhost:8080/"
        },
        "id": "YdTTvvmY88mt",
        "outputId": "ddd0e277-dba5-4d7c-99f4-19f8819d12d9"
      },
      "outputs": [
        {
          "output_type": "stream",
          "name": "stdout",
          "text": [
            "Downloading http://yann.lecun.com/exdb/mnist/train-images-idx3-ubyte.gz\n",
            "Downloading http://yann.lecun.com/exdb/mnist/train-images-idx3-ubyte.gz to data/MNIST/raw/train-images-idx3-ubyte.gz\n"
          ]
        },
        {
          "output_type": "stream",
          "name": "stderr",
          "text": [
            "100%|██████████| 9912422/9912422 [00:00<00:00, 129192143.40it/s]"
          ]
        },
        {
          "output_type": "stream",
          "name": "stdout",
          "text": [
            "Extracting data/MNIST/raw/train-images-idx3-ubyte.gz to data/MNIST/raw\n"
          ]
        },
        {
          "output_type": "stream",
          "name": "stderr",
          "text": [
            "\n"
          ]
        },
        {
          "output_type": "stream",
          "name": "stdout",
          "text": [
            "\n",
            "Downloading http://yann.lecun.com/exdb/mnist/train-labels-idx1-ubyte.gz\n",
            "Downloading http://yann.lecun.com/exdb/mnist/train-labels-idx1-ubyte.gz to data/MNIST/raw/train-labels-idx1-ubyte.gz\n"
          ]
        },
        {
          "output_type": "stream",
          "name": "stderr",
          "text": [
            "100%|██████████| 28881/28881 [00:00<00:00, 22267590.78it/s]\n"
          ]
        },
        {
          "output_type": "stream",
          "name": "stdout",
          "text": [
            "Extracting data/MNIST/raw/train-labels-idx1-ubyte.gz to data/MNIST/raw\n",
            "\n",
            "Downloading http://yann.lecun.com/exdb/mnist/t10k-images-idx3-ubyte.gz\n",
            "Downloading http://yann.lecun.com/exdb/mnist/t10k-images-idx3-ubyte.gz to data/MNIST/raw/t10k-images-idx3-ubyte.gz\n"
          ]
        },
        {
          "output_type": "stream",
          "name": "stderr",
          "text": [
            "100%|██████████| 1648877/1648877 [00:00<00:00, 18985879.50it/s]\n"
          ]
        },
        {
          "output_type": "stream",
          "name": "stdout",
          "text": [
            "Extracting data/MNIST/raw/t10k-images-idx3-ubyte.gz to data/MNIST/raw\n",
            "\n",
            "Downloading http://yann.lecun.com/exdb/mnist/t10k-labels-idx1-ubyte.gz\n",
            "Downloading http://yann.lecun.com/exdb/mnist/t10k-labels-idx1-ubyte.gz to data/MNIST/raw/t10k-labels-idx1-ubyte.gz\n"
          ]
        },
        {
          "output_type": "stream",
          "name": "stderr",
          "text": [
            "100%|██████████| 4542/4542 [00:00<00:00, 16171925.95it/s]"
          ]
        },
        {
          "output_type": "stream",
          "name": "stdout",
          "text": [
            "Extracting data/MNIST/raw/t10k-labels-idx1-ubyte.gz to data/MNIST/raw\n",
            "\n"
          ]
        },
        {
          "output_type": "stream",
          "name": "stderr",
          "text": [
            "\n"
          ]
        }
      ],
      "source": [
        "train_dataset_MNIST = torchvision.datasets.MNIST(\n",
        "    root = \"data\", # where to download data to\n",
        "    train = True, # get training data\n",
        "    download = True, # download data if it doesn't exist on disk\n",
        "    transform = transform # images come as PIL format, we want to turn into Torch tensors\n",
        ")\n",
        "\n",
        "test_dataset_MNIST = torchvision.datasets.MNIST(\n",
        "    root = \"data\",\n",
        "    train = False, # get test data\n",
        "    download = True,\n",
        "    transform = transform\n",
        ")"
      ]
    },
    {
      "cell_type": "code",
      "execution_count": 5,
      "metadata": {
        "colab": {
          "base_uri": "https://localhost:8080/"
        },
        "id": "K1DEDULF88pH",
        "outputId": "6652cb6f-1066-4c5d-99a1-5e6981a8e9fb"
      },
      "outputs": [
        {
          "output_type": "stream",
          "name": "stdout",
          "text": [
            "Downloading https://www.cs.toronto.edu/~kriz/cifar-10-python.tar.gz to data/cifar-10-python.tar.gz\n"
          ]
        },
        {
          "output_type": "stream",
          "name": "stderr",
          "text": [
            "100%|██████████| 170498071/170498071 [00:04<00:00, 34498284.79it/s]\n"
          ]
        },
        {
          "output_type": "stream",
          "name": "stdout",
          "text": [
            "Extracting data/cifar-10-python.tar.gz to data\n",
            "Files already downloaded and verified\n"
          ]
        }
      ],
      "source": [
        "train_dataset_CIFAR10 = torchvision.datasets.CIFAR10(\n",
        "    root = \"data\", # where to download data to\n",
        "    train = True, # get training data\n",
        "    download = True, # download data if it doesn't exist on disk\n",
        "    transform = transform # images come as PIL format, we want to turn into Torch tensors\n",
        ")\n",
        "\n",
        "test_dataset_CIFAR10 = torchvision.datasets.CIFAR10(\n",
        "    root = \"data\",\n",
        "    train = False, # get test data\n",
        "    download = True,\n",
        "    transform = transform\n",
        ")"
      ]
    },
    {
      "cell_type": "markdown",
      "metadata": {
        "id": "JKuIDWWY-Fus"
      },
      "source": [
        "### Create dataloaders"
      ]
    },
    {
      "cell_type": "code",
      "execution_count": 6,
      "metadata": {
        "id": "GQag3tya9hLV"
      },
      "outputs": [],
      "source": [
        "def create_dataloader(train_dataset, test_dataset, batch_size):\n",
        "  train_dataloader = DataLoader(\n",
        "      dataset = train_dataset,\n",
        "      batch_size = batch_size,\n",
        "      num_workers = 2,\n",
        "      shuffle = True\n",
        "  )\n",
        "\n",
        "  test_dataloader = DataLoader(\n",
        "      dataset = test_dataset,\n",
        "      batch_size = batch_size,\n",
        "      num_workers = 2,\n",
        "      shuffle = False\n",
        "  )\n",
        "  return train_dataloader, test_dataloader"
      ]
    },
    {
      "cell_type": "code",
      "execution_count": 7,
      "metadata": {
        "id": "jZyGijDzUt4I"
      },
      "outputs": [],
      "source": [
        "train_dataloader_FashionMNIST, test_dataloader_FashionMNIST = create_dataloader(\n",
        "    train_dataset_FashionMNIST, test_dataset_FashionMNIST, 128)\n",
        "\n",
        "train_dataloader_MNIST, test_dataloader_MNIST = create_dataloader(\n",
        "    train_dataset_MNIST, test_dataset_MNIST, 128)\n",
        "\n",
        "train_dataloader_CIFAR10, test_dataloader_CIFAR10 = create_dataloader(\n",
        "    train_dataset_CIFAR10, test_dataset_CIFAR10, 128)\n"
      ]
    },
    {
      "cell_type": "markdown",
      "metadata": {
        "id": "tR4lZINLn95j"
      },
      "source": [
        "### Show one sample from each dataset"
      ]
    },
    {
      "cell_type": "code",
      "execution_count": 8,
      "metadata": {
        "id": "5XJC_3ut-vXE"
      },
      "outputs": [],
      "source": [
        "def show_sample(train_dataloader, mean, std):\n",
        "  # Check out what's inside the training dataloader\n",
        "  train_features_batch, train_labels_batch = next(iter(train_dataloader))\n",
        "  print(\"train_features_batch.shape = \" + str(train_features_batch.shape) +\n",
        "        \", train_labels_batch.shape = \" + str(train_labels_batch.shape))\n",
        "  img, label = train_features_batch[0], train_labels_batch[0]\n",
        "  img = std * img + mean\n",
        "  plt.imshow(img.permute(1, 2, 0), cmap='gray')\n",
        "  plt.axis(\"Off\");\n",
        "  print(f\"Image size: {img.shape}\")\n",
        "  print(f\"Label: {label}\")"
      ]
    },
    {
      "cell_type": "code",
      "execution_count": 9,
      "metadata": {
        "colab": {
          "base_uri": "https://localhost:8080/",
          "height": 461
        },
        "id": "dXl1X9lQ-9vy",
        "outputId": "6ffa2e78-4a30-46ff-f2ae-cd132317718f"
      },
      "outputs": [
        {
          "output_type": "stream",
          "name": "stdout",
          "text": [
            "train_features_batch.shape = torch.Size([128, 1, 28, 28]), train_labels_batch.shape = torch.Size([128])\n",
            "Image size: torch.Size([1, 28, 28])\n",
            "Label: 2\n"
          ]
        },
        {
          "output_type": "display_data",
          "data": {
            "text/plain": [
              "<Figure size 640x480 with 1 Axes>"
            ],
            "image/png": "[encoded data removed]"
          },
          "metadata": {}
        }
      ],
      "source": [
        "# FashionMNIST sample\n",
        "show_sample(train_dataloader_FashionMNIST, mean, std)"
      ]
    },
    {
      "cell_type": "code",
      "execution_count": 10,
      "metadata": {
        "colab": {
          "base_uri": "https://localhost:8080/",
          "height": 461
        },
        "id": "yv1kaPK4-9yq",
        "outputId": "370b8e44-7396-429c-c1da-081450502269"
      },
      "outputs": [
        {
          "output_type": "stream",
          "name": "stdout",
          "text": [
            "train_features_batch.shape = torch.Size([128, 1, 28, 28]), train_labels_batch.shape = torch.Size([128])\n",
            "Image size: torch.Size([1, 28, 28])\n",
            "Label: 7\n"
          ]
        },
        {
          "output_type": "display_data",
          "data": {
            "text/plain": [
              "<Figure size 640x480 with 1 Axes>"
            ],
            "image/png": "[encoded data removed]"
          },
          "metadata": {}
        }
      ],
      "source": [
        "# MNIST sample\n",
        "show_sample(train_dataloader_MNIST, mean, std)"
      ]
    },
    {
      "cell_type": "code",
      "execution_count": 11,
      "metadata": {
        "colab": {
          "base_uri": "https://localhost:8080/",
          "height": 461
        },
        "id": "2HhztlvF-95j",
        "outputId": "68192c12-afce-47c2-f05e-336d3fddad59"
      },
      "outputs": [
        {
          "output_type": "stream",
          "name": "stdout",
          "text": [
            "train_features_batch.shape = torch.Size([128, 3, 32, 32]), train_labels_batch.shape = torch.Size([128])\n",
            "Image size: torch.Size([3, 32, 32])\n",
            "Label: 3\n"
          ]
        },
        {
          "output_type": "display_data",
          "data": {
            "text/plain": [
              "<Figure size 640x480 with 1 Axes>"
            ],
            "image/png": "[encoded data removed]"
          },
          "metadata": {}
        }
      ],
      "source": [
        "# CIFAR10 sample\n",
        "show_sample(train_dataloader_CIFAR10, mean, std)"
      ]
    },
    {
      "cell_type": "markdown",
      "metadata": {
        "id": "TkVRaxus8G79"
      },
      "source": [
        "## Part2: Implementing Structures"
      ]
    },
    {
      "cell_type": "markdown",
      "metadata": {
        "id": "KUUBvYEcBQqu"
      },
      "source": [
        "### Define number of classes from each dataset"
      ]
    },
    {
      "cell_type": "code",
      "execution_count": 9,
      "metadata": {
        "id": "iwNkmHW4z0Za"
      },
      "outputs": [],
      "source": [
        "num_classes_MNIST = len(train_dataset_MNIST.classes)\n",
        "num_classes_FashionMNIST = len(train_dataset_FashionMNIST.classes)\n",
        "num_classes_CIFAR10 = len(train_dataset_CIFAR10.classes)"
      ]
    },
    {
      "cell_type": "markdown",
      "metadata": {
        "id": "czHT5rxsosgc"
      },
      "source": [
        "### Create SCNNB model"
      ]
    },
    {
      "cell_type": "code",
      "execution_count": 10,
      "metadata": {
        "id": "j9JbrQVUWw3v"
      },
      "outputs": [],
      "source": [
        "# Create a shallow convolutional neural network\n",
        "class SCNNB(nn.Module):\n",
        "    def __init__(self, input_shape, hidden_shape, output_shape):\n",
        "        super().__init__()\n",
        "\n",
        "        self.CNN_block = nn.Sequential(\n",
        "            nn.Conv2d(input_shape, 32, kernel_size = 3),\n",
        "            nn.BatchNorm2d(32),\n",
        "            nn.ReLU(),\n",
        "            nn.MaxPool2d(kernel_size=2, stride=2),\n",
        "            nn.Conv2d(32, 64, kernel_size = 3),\n",
        "            nn.BatchNorm2d(64),\n",
        "            nn.ReLU(),\n",
        "            nn.MaxPool2d(kernel_size=2, stride=2)\n",
        "        )\n",
        "\n",
        "        self.classifier = nn.Sequential(\n",
        "            nn.Flatten(),\n",
        "            nn.Linear(in_features = 64*hidden_shape*hidden_shape, out_features = 1280),\n",
        "            nn.ReLU(),\n",
        "            nn.Dropout(0.5),\n",
        "            nn.Linear(in_features = 1280, out_features = output_shape)\n",
        "\n",
        "        )\n",
        "\n",
        "    def forward(self, x: torch.Tensor):\n",
        "        # print(x.shape)\n",
        "        x = self.CNN_block(x)\n",
        "        # print(x.shape)\n",
        "        x = self.classifier(x)\n",
        "        # print(x.shape)\n",
        "        x = F.softmax(x, dim=1)  # Apply softmax here\n",
        "        return x\n"
      ]
    },
    {
      "cell_type": "code",
      "execution_count": 11,
      "metadata": {
        "id": "EJZcCO_ZnfA9"
      },
      "outputs": [],
      "source": [
        "model1 = SCNNB(input_shape=1, hidden_shape=5, output_shape=num_classes_MNIST)\n",
        "model2 = SCNNB(input_shape=1, hidden_shape=5, output_shape=num_classes_FashionMNIST)\n",
        "model3 = SCNNB(input_shape=3, hidden_shape=6, output_shape=num_classes_CIFAR10)"
      ]
    },
    {
      "cell_type": "markdown",
      "metadata": {
        "id": "VWnuKFmXBaMu"
      },
      "source": [
        "Check input of SCNNB model"
      ]
    },
    {
      "cell_type": "code",
      "execution_count": 12,
      "metadata": {
        "colab": {
          "base_uri": "https://localhost:8080/"
        },
        "id": "3JMyU1B7trB_",
        "outputId": "98521b54-d86f-4e4b-a638-397276654369"
      },
      "outputs": [
        {
          "output_type": "execute_result",
          "data": {
            "text/plain": [
              "torch.Size([1, 10])"
            ]
          },
          "metadata": {},
          "execution_count": 12
        }
      ],
      "source": [
        "random_sample = torch.randn((1, 3, 32, 32))\n",
        "model3(random_sample).shape"
      ]
    },
    {
      "cell_type": "markdown",
      "metadata": {
        "id": "BhFlj1t00fmN"
      },
      "source": [
        "### Create SCNNB-a model"
      ]
    },
    {
      "cell_type": "code",
      "execution_count": 13,
      "metadata": {
        "id": "1iUaSsdk0dit"
      },
      "outputs": [],
      "source": [
        "# Create a shallow convolutional neural network\n",
        "class SCNNB_a(nn.Module):\n",
        "    def __init__(self, input_shape, hidden_shape, output_shape):\n",
        "        super().__init__()\n",
        "\n",
        "        self.CNN_block = nn.Sequential(\n",
        "            nn.Conv2d(input_shape, 32, kernel_size = 3),\n",
        "            # nn.BatchNorm2d(32),\n",
        "            nn.ReLU(),\n",
        "            nn.MaxPool2d(kernel_size=2, stride=2),\n",
        "            nn.Conv2d(32, 64, kernel_size = 3),\n",
        "            nn.BatchNorm2d(64),\n",
        "            nn.ReLU(),\n",
        "            nn.MaxPool2d(kernel_size=2, stride=2)\n",
        "        )\n",
        "\n",
        "        self.classifier = nn.Sequential(\n",
        "            nn.Flatten(),\n",
        "            nn.Linear(in_features = 64*hidden_shape*hidden_shape, out_features = 1280),\n",
        "            nn.ReLU(),\n",
        "            nn.Dropout(0.5),\n",
        "            nn.Linear(in_features = 1280, out_features = output_shape)\n",
        "\n",
        "        )\n",
        "\n",
        "    def forward(self, x: torch.Tensor):\n",
        "        # print(x.shape)\n",
        "        x = self.CNN_block(x)\n",
        "        # print(x.shape)\n",
        "        x = self.classifier(x)\n",
        "        # print(x.shape)\n",
        "        x = F.softmax(x, dim=1)  # Apply softmax here\n",
        "        return x\n"
      ]
    },
    {
      "cell_type": "code",
      "execution_count": 14,
      "metadata": {
        "id": "b62kkxW8062c"
      },
      "outputs": [],
      "source": [
        "model4 = SCNNB_a(input_shape=1, hidden_shape=5, output_shape=num_classes_MNIST)\n",
        "model5 = SCNNB_a(input_shape=1, hidden_shape=5, output_shape=num_classes_FashionMNIST)\n",
        "model6 = SCNNB_a(input_shape=3, hidden_shape=6, output_shape=num_classes_CIFAR10)"
      ]
    },
    {
      "cell_type": "markdown",
      "metadata": {
        "id": "U8cmDmo40oZ1"
      },
      "source": [
        "### Create SCNNB-b model"
      ]
    },
    {
      "cell_type": "code",
      "execution_count": 15,
      "metadata": {
        "id": "8tElgkFs0dlE"
      },
      "outputs": [],
      "source": [
        "# Create a shallow convolutional neural network\n",
        "class SCNNB_b(nn.Module):\n",
        "    def __init__(self, input_shape, hidden_shape, output_shape):\n",
        "        super().__init__()\n",
        "\n",
        "        self.CNN_block = nn.Sequential(\n",
        "            nn.Conv2d(input_shape, 32, kernel_size = 3),\n",
        "            # nn.BatchNorm2d(32),\n",
        "            nn.ReLU(),\n",
        "            nn.MaxPool2d(kernel_size=2, stride=2),\n",
        "            nn.Conv2d(32, 64, kernel_size = 3),\n",
        "            # nn.BatchNorm2d(64),\n",
        "            nn.ReLU(),\n",
        "            nn.MaxPool2d(kernel_size=2, stride=2)\n",
        "        )\n",
        "\n",
        "        self.classifier = nn.Sequential(\n",
        "            nn.Flatten(),\n",
        "            nn.Linear(in_features = 64*hidden_shape*hidden_shape, out_features = 1280),\n",
        "            nn.ReLU(),\n",
        "            nn.Dropout(0.5),\n",
        "            nn.Linear(in_features = 1280, out_features = output_shape)\n",
        "\n",
        "        )\n",
        "\n",
        "    def forward(self, x: torch.Tensor):\n",
        "        # print(x.shape)\n",
        "        x = self.CNN_block(x)\n",
        "        # print(x.shape)\n",
        "        x = self.classifier(x)\n",
        "        # print(x.shape)\n",
        "        x = F.softmax(x, dim=1)  # Apply softmax here\n",
        "        return x\n"
      ]
    },
    {
      "cell_type": "code",
      "execution_count": 16,
      "metadata": {
        "id": "0kHmIghd1EMS"
      },
      "outputs": [],
      "source": [
        "model7 = SCNNB_b(input_shape=1, hidden_shape=5, output_shape=num_classes_MNIST)\n",
        "model8 = SCNNB_b(input_shape=1, hidden_shape=5, output_shape=num_classes_FashionMNIST)\n",
        "model9 = SCNNB_b(input_shape=3, hidden_shape=6, output_shape=num_classes_CIFAR10)"
      ]
    },
    {
      "cell_type": "markdown",
      "metadata": {
        "id": "rCZezenYp3a6"
      },
      "source": [
        "### Define `train_step` & `test_step`"
      ]
    },
    {
      "cell_type": "code",
      "execution_count": 17,
      "metadata": {
        "id": "9sMYp4JQWxee"
      },
      "outputs": [],
      "source": [
        "def train_step(model,\n",
        "               data_loader,\n",
        "               loss_fn,\n",
        "               optimizer,\n",
        "               accuracy_fn,\n",
        "               device):\n",
        "\n",
        "    # Send model to GPU\n",
        "    model.to(device)\n",
        "\n",
        "    # put model in train mode\n",
        "    model.train()\n",
        "    train_loss, train_acc, counter = 0, 0, 0\n",
        "    with tqdm(data_loader, desc =\"  train\") as train_tqdm:\n",
        "        for X, y in train_tqdm:\n",
        "            # Send data to GPU\n",
        "            X, y = X.to(device), y.to(device)\n",
        "\n",
        "            # 1. Forward pass\n",
        "            y_pred = model(X)\n",
        "\n",
        "            # 2. Calculate loss\n",
        "            loss = loss_fn(y_pred, y)\n",
        "            train_loss += loss\n",
        "            train_acc += accuracy_fn(true=y.cpu(),\n",
        "                                     pred=y_pred.cpu())\n",
        "            counter += 1\n",
        "            train_tqdm.set_postfix(train_acc=train_acc/counter, train_loss=train_loss.item()/counter, refresh=True)\n",
        "\n",
        "            # 3. Optimizer zero grad\n",
        "            optimizer.zero_grad()\n",
        "\n",
        "            # 4. Loss backward\n",
        "            loss.backward()\n",
        "\n",
        "            # 5. Optimizer step\n",
        "            optimizer.step()\n",
        "\n",
        "        # Calculate loss and accuracy per epoch and print out what's happening\n",
        "        train_loss /= len(data_loader)\n",
        "        train_acc /= len(data_loader)\n",
        "\n",
        "    return train_loss.item(), train_acc"
      ]
    },
    {
      "cell_type": "code",
      "execution_count": 18,
      "metadata": {
        "id": "FTYq3ECWocOw"
      },
      "outputs": [],
      "source": [
        "def test_step(model,\n",
        "              data_loader,\n",
        "              loss_fn,\n",
        "              accuracy_fn,\n",
        "              device):\n",
        "\n",
        "    # Send model to GPU\n",
        "    model.to(device)\n",
        "\n",
        "    # put model in eval mode\n",
        "    model.eval()\n",
        "    test_loss, test_acc, counter = 0, 0, 0\n",
        "    with tqdm(data_loader, desc =\"   test\") as test_tqdm:\n",
        "        for X, y in test_tqdm:\n",
        "            # Send data to GPU\n",
        "            X, y = X.to(device), y.to(device)\n",
        "\n",
        "            # 1. Forward pass\n",
        "            test_pred = model(X)\n",
        "\n",
        "            # 2. Calculate loss and accuracy\n",
        "            test_loss += loss_fn(test_pred, y)\n",
        "            test_acc += accuracy_fn(true=y.cpu(),\n",
        "                                    pred=test_pred.cpu())\n",
        "            counter += 1\n",
        "            test_tqdm.set_postfix(test_acc=test_acc/counter, test_loss=test_loss.item()/counter, refresh=True)\n",
        "\n",
        "        # Adjust metrics and print out\n",
        "        test_loss /= len(data_loader)\n",
        "        test_acc  /= len(data_loader)\n",
        "\n",
        "    return test_loss.item(), test_acc"
      ]
    },
    {
      "cell_type": "markdown",
      "metadata": {
        "id": "YG9_ov-j5VXH"
      },
      "source": [
        "### Define `accuracy_fn`, `loss_fn` and `optimizer`"
      ]
    },
    {
      "cell_type": "code",
      "execution_count": 19,
      "metadata": {
        "id": "swXG_k__pp76"
      },
      "outputs": [],
      "source": [
        "def accuracy_fn(true, pred):\n",
        "    pred = torch.argmax(pred, dim=1)\n",
        "    acc = (true == pred).float().mean().item()\n",
        "    return acc"
      ]
    },
    {
      "cell_type": "code",
      "execution_count": 20,
      "metadata": {
        "id": "GnP185oLqEz6"
      },
      "outputs": [],
      "source": [
        "def optimizer(model):\n",
        "  optimizer = optim.SGD(model.parameters(), lr=0.02, momentum=0.9, weight_decay=0.000005)\n",
        "  return optimizer"
      ]
    },
    {
      "cell_type": "code",
      "execution_count": 21,
      "metadata": {
        "id": "9xcm4uFEWxg3"
      },
      "outputs": [],
      "source": [
        "loss_fn = nn.CrossEntropyLoss()\n",
        "device = torch.device(\"cuda:0\" if torch.cuda.is_available() else \"cpu\")\n",
        "\n",
        "optimizer1 = optimizer(model1)\n",
        "optimizer2 = optimizer(model2)\n",
        "optimizer3 = optimizer(model3)\n",
        "optimizer4 = optimizer(model4)\n",
        "optimizer5 = optimizer(model5)\n",
        "optimizer6 = optimizer(model6)\n",
        "optimizer7 = optimizer(model7)\n",
        "optimizer8 = optimizer(model8)\n",
        "optimizer9 = optimizer(model9)"
      ]
    },
    {
      "cell_type": "markdown",
      "metadata": {
        "id": "khaeAEpE64fF"
      },
      "source": [
        "### Define `fit` function"
      ]
    },
    {
      "cell_type": "code",
      "execution_count": 22,
      "metadata": {
        "id": "69eOBTrSq376"
      },
      "outputs": [],
      "source": [
        "def fit(model, train_dataloader, test_dataloader, optimizer, epochs):\n",
        "  train_epoch_loss = []\n",
        "  train_epoch_accuracy = []\n",
        "  test_epoch_loss = []\n",
        "  test_epoch_accuracy = []\n",
        "\n",
        "  train_time_start = timer()\n",
        "\n",
        "  for epoch in range(epochs):\n",
        "      print(\"EPOCH {}/{} :\".format(epoch +1, epochs))\n",
        "      train_loss, train_acc = train_step(data_loader=train_dataloader,\n",
        "                                                model=model,\n",
        "                                                loss_fn=loss_fn,\n",
        "                                                optimizer=optimizer,\n",
        "                                                accuracy_fn=accuracy_fn,\n",
        "                                                device=device\n",
        "                                                )\n",
        "      test_loss, test_acc = test_step(data_loader=test_dataloader,\n",
        "                                      model=model,\n",
        "                                      loss_fn=loss_fn,\n",
        "                                      accuracy_fn=accuracy_fn,\n",
        "                                      device=device\n",
        "                                      )\n",
        "\n",
        "      train_epoch_loss.append(train_loss)\n",
        "      train_epoch_accuracy.append(train_acc)\n",
        "      test_epoch_loss.append(test_loss)\n",
        "      test_epoch_accuracy.append(test_acc)\n",
        "\n",
        "  train_time_end = timer()\n",
        "  total_time = train_time_end - train_time_start\n",
        "  print(f\"\\n\\nTrain time: {total_time:.5f} seconds\")\n",
        "  return train_epoch_loss, test_epoch_loss, train_epoch_accuracy, test_epoch_accuracy"
      ]
    },
    {
      "cell_type": "markdown",
      "metadata": {
        "id": "syxKAA9c9z75"
      },
      "source": [
        "## Part3: Implementation Results"
      ]
    },
    {
      "cell_type": "markdown",
      "metadata": {
        "id": "QhZa-59V89lr"
      },
      "source": [
        "### Define plot function"
      ]
    },
    {
      "cell_type": "code",
      "execution_count": 23,
      "metadata": {
        "id": "7IdV3IJcovJQ"
      },
      "outputs": [],
      "source": [
        "def accloss_plots(train_loss1, test_loss1, train_acc1, test_acc1,\n",
        "                  train_loss2, test_loss2, train_acc2, test_acc2,\n",
        "                  train_loss3, test_loss3, train_acc3, test_acc3):\n",
        "    num_epochs = len(train_loss1)\n",
        "    plt.figure(figsize=(13, 10))\n",
        "\n",
        "    # Plot training loss for all sets\n",
        "    plt.subplot(221)\n",
        "    plt.plot(train_loss1, '-.', label='Train Set SCNNB')\n",
        "    plt.plot(train_loss2, '-.', label='Train Set SCNNB-a')\n",
        "    plt.plot(train_loss3, '-.', label='Train Set SCNNB-b')\n",
        "    plt.xlabel('Epochs', fontsize=10, labelpad=8)\n",
        "    plt.title('Loss', fontsize=25, pad=15)\n",
        "    plt.grid()\n",
        "    plt.legend()\n",
        "    sns.despine()\n",
        "\n",
        "    # Plot training accuracy for all sets\n",
        "    plt.subplot(222)\n",
        "    plt.plot(train_acc1, '-.', label='Train Set SCNNB')\n",
        "    plt.plot(train_acc2, '-.', label='Train Set SCNNB-a')\n",
        "    plt.plot(train_acc3, '-.', label='Train Set SCNNB-b')\n",
        "    plt.xlabel('Epochs', fontsize=10, labelpad=8)\n",
        "    plt.title('Accuracy', fontsize=25, pad=15)\n",
        "    plt.tight_layout(pad=3)\n",
        "    plt.grid()\n",
        "    plt.legend()\n",
        "    sns.despine()\n",
        "\n",
        "    # Plot testing loss for all sets\n",
        "    plt.subplot(223)\n",
        "    plt.plot(test_loss1, '-.', label='Test Set SCNNB')\n",
        "    plt.plot(test_loss2, '-.', label='Test Set SCNNB-a')\n",
        "    plt.plot(test_loss3, '-.', label='Test Set SCNNB-b')\n",
        "    plt.xlabel('Epochs', fontsize=10, labelpad=8)\n",
        "    plt.title('Loss', fontsize=25, pad=15)\n",
        "    plt.grid()\n",
        "    plt.legend()\n",
        "    sns.despine()\n",
        "\n",
        "    # Plot testing accuracy for all sets\n",
        "    plt.subplot(224)\n",
        "    plt.plot(test_acc1, '-.', label='Test Set SCNNB')\n",
        "    plt.plot(test_acc2, '-.', label='Test Set SCNNB-a')\n",
        "    plt.plot(test_acc3, '-.', label='Test Set SCNNB-b')\n",
        "    plt.xlabel('Epochs', fontsize=10, labelpad=8)\n",
        "    plt.title('Accuracy', fontsize=25, pad=15)\n",
        "    plt.tight_layout(pad=3)\n",
        "    plt.grid()\n",
        "    plt.legend()\n",
        "    sns.despine()\n",
        "\n",
        "    plt.show()\n"
      ]
    },
    {
      "cell_type": "markdown",
      "metadata": {
        "id": "g9sDfzDw8pb9"
      },
      "source": [
        "### Fit for MNIST dataset"
      ]
    },
    {
      "cell_type": "code",
      "execution_count": null,
      "metadata": {
        "colab": {
          "base_uri": "https://localhost:8080/"
        },
        "id": "LPdMpKpRsXKp",
        "outputId": "91649ce5-38b0-4bb5-8878-0b8e4dff06e1"
      },
      "outputs": [
        {
          "output_type": "stream",
          "name": "stdout",
          "text": [
            "EPOCH 1/40 :\n"
          ]
        },
        {
          "output_type": "stream",
          "name": "stderr",
          "text": [
            "  train: 100%|██████████| 469/469 [00:25<00:00, 18.30it/s, train_acc=0.797, train_loss=1.68]\n",
            "   test: 100%|██████████| 79/79 [00:04<00:00, 16.05it/s, test_acc=0.876, test_loss=1.59]\n"
          ]
        },
        {
          "output_type": "stream",
          "name": "stdout",
          "text": [
            "EPOCH 2/40 :\n"
          ]
        },
        {
          "output_type": "stream",
          "name": "stderr",
          "text": [
            "  train: 100%|██████████| 469/469 [00:18<00:00, 24.93it/s, train_acc=0.881, train_loss=1.58]\n",
            "   test: 100%|██████████| 79/79 [00:02<00:00, 29.62it/s, test_acc=0.946, test_loss=1.52]\n"
          ]
        },
        {
          "output_type": "stream",
          "name": "stdout",
          "text": [
            "EPOCH 3/40 :\n"
          ]
        },
        {
          "output_type": "stream",
          "name": "stderr",
          "text": [
            "  train: 100%|██████████| 469/469 [00:18<00:00, 25.56it/s, train_acc=0.964, train_loss=1.5]\n",
            "   test: 100%|██████████| 79/79 [00:02<00:00, 27.46it/s, test_acc=0.974, test_loss=1.49]\n"
          ]
        },
        {
          "output_type": "stream",
          "name": "stdout",
          "text": [
            "EPOCH 4/40 :\n"
          ]
        },
        {
          "output_type": "stream",
          "name": "stderr",
          "text": [
            "  train: 100%|██████████| 469/469 [00:19<00:00, 24.26it/s, train_acc=0.975, train_loss=1.49]\n",
            "   test: 100%|██████████| 79/79 [00:03<00:00, 21.72it/s, test_acc=0.976, test_loss=1.49]\n"
          ]
        },
        {
          "output_type": "stream",
          "name": "stdout",
          "text": [
            "EPOCH 5/40 :\n"
          ]
        },
        {
          "output_type": "stream",
          "name": "stderr",
          "text": [
            "  train: 100%|██████████| 469/469 [00:17<00:00, 27.01it/s, train_acc=0.98, train_loss=1.48]\n",
            "   test: 100%|██████████| 79/79 [00:02<00:00, 29.11it/s, test_acc=0.98, test_loss=1.48]\n"
          ]
        },
        {
          "output_type": "stream",
          "name": "stdout",
          "text": [
            "EPOCH 6/40 :\n"
          ]
        },
        {
          "output_type": "stream",
          "name": "stderr",
          "text": [
            "  train: 100%|██████████| 469/469 [00:18<00:00, 25.85it/s, train_acc=0.982, train_loss=1.48]\n",
            "   test: 100%|██████████| 79/79 [00:03<00:00, 24.99it/s, test_acc=0.982, test_loss=1.48]\n"
          ]
        },
        {
          "output_type": "stream",
          "name": "stdout",
          "text": [
            "EPOCH 7/40 :\n"
          ]
        },
        {
          "output_type": "stream",
          "name": "stderr",
          "text": [
            "  train: 100%|██████████| 469/469 [00:18<00:00, 25.19it/s, train_acc=0.985, train_loss=1.48]\n",
            "   test: 100%|██████████| 79/79 [00:02<00:00, 26.56it/s, test_acc=0.977, test_loss=1.48]\n"
          ]
        },
        {
          "output_type": "stream",
          "name": "stdout",
          "text": [
            "EPOCH 8/40 :\n"
          ]
        },
        {
          "output_type": "stream",
          "name": "stderr",
          "text": [
            "  train: 100%|██████████| 469/469 [00:18<00:00, 25.73it/s, train_acc=0.986, train_loss=1.48]\n",
            "   test: 100%|██████████| 79/79 [00:02<00:00, 27.77it/s, test_acc=0.984, test_loss=1.48]\n"
          ]
        },
        {
          "output_type": "stream",
          "name": "stdout",
          "text": [
            "EPOCH 9/40 :\n"
          ]
        },
        {
          "output_type": "stream",
          "name": "stderr",
          "text": [
            "  train: 100%|██████████| 469/469 [00:18<00:00, 25.75it/s, train_acc=0.987, train_loss=1.48]\n",
            "   test: 100%|██████████| 79/79 [00:03<00:00, 24.27it/s, test_acc=0.985, test_loss=1.48]\n"
          ]
        },
        {
          "output_type": "stream",
          "name": "stdout",
          "text": [
            "EPOCH 10/40 :\n"
          ]
        },
        {
          "output_type": "stream",
          "name": "stderr",
          "text": [
            "  train: 100%|██████████| 469/469 [00:17<00:00, 26.73it/s, train_acc=0.988, train_loss=1.47]\n",
            "   test: 100%|██████████| 79/79 [00:02<00:00, 28.85it/s, test_acc=0.984, test_loss=1.48]\n"
          ]
        },
        {
          "output_type": "stream",
          "name": "stdout",
          "text": [
            "EPOCH 11/40 :\n"
          ]
        },
        {
          "output_type": "stream",
          "name": "stderr",
          "text": [
            "  train: 100%|██████████| 469/469 [00:18<00:00, 25.02it/s, train_acc=0.989, train_loss=1.47]\n",
            "   test: 100%|██████████| 79/79 [00:02<00:00, 28.29it/s, test_acc=0.984, test_loss=1.48]\n"
          ]
        },
        {
          "output_type": "stream",
          "name": "stdout",
          "text": [
            "EPOCH 12/40 :\n"
          ]
        },
        {
          "output_type": "stream",
          "name": "stderr",
          "text": [
            "  train: 100%|██████████| 469/469 [00:17<00:00, 26.72it/s, train_acc=0.989, train_loss=1.47]\n",
            "   test: 100%|██████████| 79/79 [00:03<00:00, 20.58it/s, test_acc=0.987, test_loss=1.47]\n"
          ]
        },
        {
          "output_type": "stream",
          "name": "stdout",
          "text": [
            "EPOCH 13/40 :\n"
          ]
        },
        {
          "output_type": "stream",
          "name": "stderr",
          "text": [
            "  train: 100%|██████████| 469/469 [00:17<00:00, 26.62it/s, train_acc=0.991, train_loss=1.47]\n",
            "   test: 100%|██████████| 79/79 [00:02<00:00, 27.87it/s, test_acc=0.987, test_loss=1.47]\n"
          ]
        },
        {
          "output_type": "stream",
          "name": "stdout",
          "text": [
            "EPOCH 14/40 :\n"
          ]
        },
        {
          "output_type": "stream",
          "name": "stderr",
          "text": [
            "  train: 100%|██████████| 469/469 [00:18<00:00, 25.59it/s, train_acc=0.991, train_loss=1.47]\n",
            "   test: 100%|██████████| 79/79 [00:02<00:00, 28.48it/s, test_acc=0.985, test_loss=1.48]\n"
          ]
        },
        {
          "output_type": "stream",
          "name": "stdout",
          "text": [
            "EPOCH 15/40 :\n"
          ]
        },
        {
          "output_type": "stream",
          "name": "stderr",
          "text": [
            "  train: 100%|██████████| 469/469 [00:19<00:00, 23.92it/s, train_acc=0.992, train_loss=1.47]\n",
            "   test: 100%|██████████| 79/79 [00:03<00:00, 20.53it/s, test_acc=0.988, test_loss=1.47]\n"
          ]
        },
        {
          "output_type": "stream",
          "name": "stdout",
          "text": [
            "EPOCH 16/40 :\n"
          ]
        },
        {
          "output_type": "stream",
          "name": "stderr",
          "text": [
            "  train: 100%|██████████| 469/469 [00:17<00:00, 27.20it/s, train_acc=0.992, train_loss=1.47]\n",
            "   test: 100%|██████████| 79/79 [00:02<00:00, 28.59it/s, test_acc=0.985, test_loss=1.48]\n"
          ]
        },
        {
          "output_type": "stream",
          "name": "stdout",
          "text": [
            "EPOCH 17/40 :\n"
          ]
        },
        {
          "output_type": "stream",
          "name": "stderr",
          "text": [
            "  train: 100%|██████████| 469/469 [00:18<00:00, 25.23it/s, train_acc=0.993, train_loss=1.47]\n",
            "   test: 100%|██████████| 79/79 [00:02<00:00, 29.17it/s, test_acc=0.988, test_loss=1.47]\n"
          ]
        },
        {
          "output_type": "stream",
          "name": "stdout",
          "text": [
            "EPOCH 18/40 :\n"
          ]
        },
        {
          "output_type": "stream",
          "name": "stderr",
          "text": [
            "  train: 100%|██████████| 469/469 [00:17<00:00, 26.89it/s, train_acc=0.993, train_loss=1.47]\n",
            "   test: 100%|██████████| 79/79 [00:03<00:00, 24.78it/s, test_acc=0.986, test_loss=1.47]\n"
          ]
        },
        {
          "output_type": "stream",
          "name": "stdout",
          "text": [
            "EPOCH 19/40 :\n"
          ]
        },
        {
          "output_type": "stream",
          "name": "stderr",
          "text": [
            "  train: 100%|██████████| 469/469 [00:18<00:00, 25.68it/s, train_acc=0.994, train_loss=1.47]\n",
            "   test: 100%|██████████| 79/79 [00:02<00:00, 28.58it/s, test_acc=0.987, test_loss=1.47]\n"
          ]
        },
        {
          "output_type": "stream",
          "name": "stdout",
          "text": [
            "EPOCH 20/40 :\n"
          ]
        },
        {
          "output_type": "stream",
          "name": "stderr",
          "text": [
            "  train: 100%|██████████| 469/469 [00:18<00:00, 25.84it/s, train_acc=0.994, train_loss=1.47]\n",
            "   test: 100%|██████████| 79/79 [00:03<00:00, 24.13it/s, test_acc=0.988, test_loss=1.47]\n"
          ]
        },
        {
          "output_type": "stream",
          "name": "stdout",
          "text": [
            "EPOCH 21/40 :\n"
          ]
        },
        {
          "output_type": "stream",
          "name": "stderr",
          "text": [
            "  train: 100%|██████████| 469/469 [00:17<00:00, 26.35it/s, train_acc=0.994, train_loss=1.47]\n",
            "   test: 100%|██████████| 79/79 [00:02<00:00, 28.59it/s, test_acc=0.989, test_loss=1.47]\n"
          ]
        },
        {
          "output_type": "stream",
          "name": "stdout",
          "text": [
            "EPOCH 22/40 :\n"
          ]
        },
        {
          "output_type": "stream",
          "name": "stderr",
          "text": [
            "  train: 100%|██████████| 469/469 [00:18<00:00, 25.23it/s, train_acc=0.994, train_loss=1.47]\n",
            "   test: 100%|██████████| 79/79 [00:02<00:00, 28.62it/s, test_acc=0.988, test_loss=1.47]\n"
          ]
        },
        {
          "output_type": "stream",
          "name": "stdout",
          "text": [
            "EPOCH 23/40 :\n"
          ]
        },
        {
          "output_type": "stream",
          "name": "stderr",
          "text": [
            "  train: 100%|██████████| 469/469 [00:17<00:00, 26.47it/s, train_acc=0.994, train_loss=1.47]\n",
            "   test: 100%|██████████| 79/79 [00:03<00:00, 21.17it/s, test_acc=0.987, test_loss=1.47]\n"
          ]
        },
        {
          "output_type": "stream",
          "name": "stdout",
          "text": [
            "EPOCH 24/40 :\n"
          ]
        },
        {
          "output_type": "stream",
          "name": "stderr",
          "text": [
            "  train: 100%|██████████| 469/469 [00:17<00:00, 26.67it/s, train_acc=0.995, train_loss=1.47]\n",
            "   test: 100%|██████████| 79/79 [00:02<00:00, 27.98it/s, test_acc=0.989, test_loss=1.47]\n"
          ]
        },
        {
          "output_type": "stream",
          "name": "stdout",
          "text": [
            "EPOCH 25/40 :\n"
          ]
        },
        {
          "output_type": "stream",
          "name": "stderr",
          "text": [
            "  train: 100%|██████████| 469/469 [00:18<00:00, 25.02it/s, train_acc=0.996, train_loss=1.47]\n",
            "   test: 100%|██████████| 79/79 [00:04<00:00, 17.54it/s, test_acc=0.989, test_loss=1.47]\n"
          ]
        },
        {
          "output_type": "stream",
          "name": "stdout",
          "text": [
            "EPOCH 26/40 :\n"
          ]
        },
        {
          "output_type": "stream",
          "name": "stderr",
          "text": [
            "  train: 100%|██████████| 469/469 [00:19<00:00, 24.16it/s, train_acc=0.996, train_loss=1.47]\n",
            "   test: 100%|██████████| 79/79 [00:03<00:00, 26.13it/s, test_acc=0.987, test_loss=1.47]\n"
          ]
        },
        {
          "output_type": "stream",
          "name": "stdout",
          "text": [
            "EPOCH 27/40 :\n"
          ]
        },
        {
          "output_type": "stream",
          "name": "stderr",
          "text": [
            "  train: 100%|██████████| 469/469 [00:18<00:00, 25.30it/s, train_acc=0.996, train_loss=1.47]\n",
            "   test: 100%|██████████| 79/79 [00:03<00:00, 25.09it/s, test_acc=0.988, test_loss=1.47]\n"
          ]
        },
        {
          "output_type": "stream",
          "name": "stdout",
          "text": [
            "EPOCH 28/40 :\n"
          ]
        },
        {
          "output_type": "stream",
          "name": "stderr",
          "text": [
            "  train: 100%|██████████| 469/469 [00:19<00:00, 24.04it/s, train_acc=0.996, train_loss=1.47]\n",
            "   test: 100%|██████████| 79/79 [00:02<00:00, 28.65it/s, test_acc=0.988, test_loss=1.47]\n"
          ]
        },
        {
          "output_type": "stream",
          "name": "stdout",
          "text": [
            "EPOCH 29/40 :\n"
          ]
        },
        {
          "output_type": "stream",
          "name": "stderr",
          "text": [
            "  train: 100%|██████████| 469/469 [00:19<00:00, 23.89it/s, train_acc=0.996, train_loss=1.47]\n",
            "   test: 100%|██████████| 79/79 [00:02<00:00, 28.67it/s, test_acc=0.987, test_loss=1.47]\n"
          ]
        },
        {
          "output_type": "stream",
          "name": "stdout",
          "text": [
            "EPOCH 30/40 :\n"
          ]
        },
        {
          "output_type": "stream",
          "name": "stderr",
          "text": [
            "  train: 100%|██████████| 469/469 [00:19<00:00, 24.38it/s, train_acc=0.996, train_loss=1.47]\n",
            "   test: 100%|██████████| 79/79 [00:03<00:00, 25.56it/s, test_acc=0.988, test_loss=1.47]\n"
          ]
        },
        {
          "output_type": "stream",
          "name": "stdout",
          "text": [
            "EPOCH 31/40 :\n"
          ]
        },
        {
          "output_type": "stream",
          "name": "stderr",
          "text": [
            "  train: 100%|██████████| 469/469 [00:18<00:00, 25.67it/s, train_acc=0.996, train_loss=1.47]\n",
            "   test: 100%|██████████| 79/79 [00:02<00:00, 28.21it/s, test_acc=0.988, test_loss=1.47]\n"
          ]
        },
        {
          "output_type": "stream",
          "name": "stdout",
          "text": [
            "EPOCH 32/40 :\n"
          ]
        },
        {
          "output_type": "stream",
          "name": "stderr",
          "text": [
            "  train: 100%|██████████| 469/469 [00:18<00:00, 25.98it/s, train_acc=0.996, train_loss=1.47]\n",
            "   test: 100%|██████████| 79/79 [00:03<00:00, 22.45it/s, test_acc=0.99, test_loss=1.47]\n"
          ]
        },
        {
          "output_type": "stream",
          "name": "stdout",
          "text": [
            "EPOCH 33/40 :\n"
          ]
        },
        {
          "output_type": "stream",
          "name": "stderr",
          "text": [
            "  train: 100%|██████████| 469/469 [00:17<00:00, 26.53it/s, train_acc=0.997, train_loss=1.46]\n",
            "   test: 100%|██████████| 79/79 [00:02<00:00, 28.45it/s, test_acc=0.989, test_loss=1.47]\n"
          ]
        },
        {
          "output_type": "stream",
          "name": "stdout",
          "text": [
            "EPOCH 34/40 :\n"
          ]
        },
        {
          "output_type": "stream",
          "name": "stderr",
          "text": [
            "  train: 100%|██████████| 469/469 [00:18<00:00, 24.91it/s, train_acc=0.997, train_loss=1.46]\n",
            "   test: 100%|██████████| 79/79 [00:02<00:00, 28.57it/s, test_acc=0.99, test_loss=1.47]\n"
          ]
        },
        {
          "output_type": "stream",
          "name": "stdout",
          "text": [
            "EPOCH 35/40 :\n"
          ]
        },
        {
          "output_type": "stream",
          "name": "stderr",
          "text": [
            "  train: 100%|██████████| 469/469 [00:17<00:00, 26.40it/s, train_acc=0.997, train_loss=1.46]\n",
            "   test: 100%|██████████| 79/79 [00:03<00:00, 20.35it/s, test_acc=0.99, test_loss=1.47]\n"
          ]
        },
        {
          "output_type": "stream",
          "name": "stdout",
          "text": [
            "EPOCH 36/40 :\n"
          ]
        },
        {
          "output_type": "stream",
          "name": "stderr",
          "text": [
            "  train: 100%|██████████| 469/469 [00:17<00:00, 26.79it/s, train_acc=0.997, train_loss=1.46]\n",
            "   test: 100%|██████████| 79/79 [00:02<00:00, 29.42it/s, test_acc=0.989, test_loss=1.47]\n"
          ]
        },
        {
          "output_type": "stream",
          "name": "stdout",
          "text": [
            "EPOCH 37/40 :\n"
          ]
        },
        {
          "output_type": "stream",
          "name": "stderr",
          "text": [
            "  train: 100%|██████████| 469/469 [00:18<00:00, 25.12it/s, train_acc=0.997, train_loss=1.46]\n",
            "   test: 100%|██████████| 79/79 [00:02<00:00, 28.17it/s, test_acc=0.989, test_loss=1.47]\n"
          ]
        },
        {
          "output_type": "stream",
          "name": "stdout",
          "text": [
            "EPOCH 38/40 :\n"
          ]
        },
        {
          "output_type": "stream",
          "name": "stderr",
          "text": [
            "  train: 100%|██████████| 469/469 [00:17<00:00, 26.65it/s, train_acc=0.997, train_loss=1.46]\n",
            "   test: 100%|██████████| 79/79 [00:03<00:00, 25.40it/s, test_acc=0.989, test_loss=1.47]\n"
          ]
        },
        {
          "output_type": "stream",
          "name": "stdout",
          "text": [
            "EPOCH 39/40 :\n"
          ]
        },
        {
          "output_type": "stream",
          "name": "stderr",
          "text": [
            "  train: 100%|██████████| 469/469 [00:18<00:00, 25.53it/s, train_acc=0.997, train_loss=1.46]\n",
            "   test: 100%|██████████| 79/79 [00:02<00:00, 28.08it/s, test_acc=0.99, test_loss=1.47]\n"
          ]
        },
        {
          "output_type": "stream",
          "name": "stdout",
          "text": [
            "EPOCH 40/40 :\n"
          ]
        },
        {
          "output_type": "stream",
          "name": "stderr",
          "text": [
            "  train: 100%|██████████| 469/469 [00:18<00:00, 24.95it/s, train_acc=0.997, train_loss=1.46]\n",
            "   test: 100%|██████████| 79/79 [00:03<00:00, 24.83it/s, test_acc=0.99, test_loss=1.47]\n"
          ]
        },
        {
          "output_type": "stream",
          "name": "stdout",
          "text": [
            "\n",
            "\n",
            "Train time: 871.01955 seconds\n"
          ]
        }
      ],
      "source": [
        "train_loss1, test_loss1, train_acc1, test_acc1 = fit(\n",
        "    model1, train_dataloader_MNIST, test_dataloader_MNIST, optimizer1, 40)"
      ]
    },
    {
      "cell_type": "code",
      "execution_count": null,
      "metadata": {
        "id": "KShK_E1k1lEr"
      },
      "outputs": [],
      "source": [
        "train_loss4, test_loss4, train_acc4, test_acc4 = fit(\n",
        "    model4, train_dataloader_MNIST, test_dataloader_MNIST, optimizer4, 40)"
      ]
    },
    {
      "cell_type": "code",
      "execution_count": null,
      "metadata": {
        "id": "irTHrqZp1lbT"
      },
      "outputs": [],
      "source": [
        "train_loss7, test_loss7, train_acc7, test_acc7 = fit(\n",
        "    model7, train_dataloader_MNIST, test_dataloader_MNIST, optimizer7, 40)"
      ]
    },
    {
      "cell_type": "markdown",
      "metadata": {
        "id": "geh8BPHh9s5T"
      },
      "source": [
        "### Results for MNIST dataset"
      ]
    },
    {
      "cell_type": "code",
      "execution_count": null,
      "metadata": {
        "colab": {
          "base_uri": "https://localhost:8080/",
          "height": 953
        },
        "id": "O3ae__B6ovL3",
        "outputId": "6667f712-a225-4f3c-f6d7-134b9f1906c3"
      },
      "outputs": [
        {
          "output_type": "display_data",
          "data": {
            "text/plain": [
              "<Figure size 1300x1000 with 4 Axes>"
            ],
            "image/png": "[encoded data removed]"
          },
          "metadata": {}
        }
      ],
      "source": [
        "accloss_plots(train_loss1, test_loss1, train_acc1, test_acc1,\n",
        "                  train_loss4, test_loss4, train_acc4, test_acc4,\n",
        "                  train_loss7, test_loss7, train_acc7, test_acc7)"
      ]
    },
    {
      "cell_type": "markdown",
      "metadata": {
        "id": "nl5sJfA_9XFV"
      },
      "source": [
        "### Fit for FashionMNIST dataset"
      ]
    },
    {
      "cell_type": "code",
      "execution_count": 27,
      "metadata": {
        "colab": {
          "base_uri": "https://localhost:8080/"
        },
        "id": "9pr6-Iu0JlEG",
        "outputId": "0f5c24c7-d213-4d39-f2e2-d845589d85b9"
      },
      "outputs": [
        {
          "output_type": "stream",
          "name": "stdout",
          "text": [
            "EPOCH 1/30 :\n"
          ]
        },
        {
          "output_type": "stream",
          "name": "stderr",
          "text": [
            "  train: 100%|██████████| 469/469 [00:26<00:00, 17.72it/s, train_acc=0.763, train_loss=1.71]\n",
            "   test: 100%|██████████| 79/79 [00:02<00:00, 30.30it/s, test_acc=0.831, test_loss=1.63]\n"
          ]
        },
        {
          "output_type": "stream",
          "name": "stdout",
          "text": [
            "EPOCH 2/30 :\n"
          ]
        },
        {
          "output_type": "stream",
          "name": "stderr",
          "text": [
            "  train: 100%|██████████| 469/469 [00:15<00:00, 29.41it/s, train_acc=0.848, train_loss=1.62]\n",
            "   test: 100%|██████████| 79/79 [00:03<00:00, 22.89it/s, test_acc=0.856, test_loss=1.61]\n"
          ]
        },
        {
          "output_type": "stream",
          "name": "stdout",
          "text": [
            "EPOCH 3/30 :\n"
          ]
        },
        {
          "output_type": "stream",
          "name": "stderr",
          "text": [
            "  train: 100%|██████████| 469/469 [00:17<00:00, 26.22it/s, train_acc=0.864, train_loss=1.6]\n",
            "   test: 100%|██████████| 79/79 [00:02<00:00, 31.63it/s, test_acc=0.865, test_loss=1.6]\n"
          ]
        },
        {
          "output_type": "stream",
          "name": "stdout",
          "text": [
            "EPOCH 4/30 :\n"
          ]
        },
        {
          "output_type": "stream",
          "name": "stderr",
          "text": [
            "  train: 100%|██████████| 469/469 [00:16<00:00, 28.08it/s, train_acc=0.871, train_loss=1.59]\n",
            "   test: 100%|██████████| 79/79 [00:03<00:00, 25.85it/s, test_acc=0.873, test_loss=1.59]\n"
          ]
        },
        {
          "output_type": "stream",
          "name": "stdout",
          "text": [
            "EPOCH 5/30 :\n"
          ]
        },
        {
          "output_type": "stream",
          "name": "stderr",
          "text": [
            "  train: 100%|██████████| 469/469 [00:16<00:00, 28.32it/s, train_acc=0.878, train_loss=1.59]\n",
            "   test: 100%|██████████| 79/79 [00:02<00:00, 30.89it/s, test_acc=0.873, test_loss=1.59]\n"
          ]
        },
        {
          "output_type": "stream",
          "name": "stdout",
          "text": [
            "EPOCH 6/30 :\n"
          ]
        },
        {
          "output_type": "stream",
          "name": "stderr",
          "text": [
            "  train: 100%|██████████| 469/469 [00:17<00:00, 26.59it/s, train_acc=0.881, train_loss=1.58]\n",
            "   test: 100%|██████████| 79/79 [00:02<00:00, 30.88it/s, test_acc=0.876, test_loss=1.59]\n"
          ]
        },
        {
          "output_type": "stream",
          "name": "stdout",
          "text": [
            "EPOCH 7/30 :\n"
          ]
        },
        {
          "output_type": "stream",
          "name": "stderr",
          "text": [
            "  train: 100%|██████████| 469/469 [00:16<00:00, 28.58it/s, train_acc=0.887, train_loss=1.58]\n",
            "   test: 100%|██████████| 79/79 [00:02<00:00, 30.95it/s, test_acc=0.871, test_loss=1.59]\n"
          ]
        },
        {
          "output_type": "stream",
          "name": "stdout",
          "text": [
            "EPOCH 8/30 :\n"
          ]
        },
        {
          "output_type": "stream",
          "name": "stderr",
          "text": [
            "  train: 100%|██████████| 469/469 [00:17<00:00, 26.78it/s, train_acc=0.889, train_loss=1.57]\n",
            "   test: 100%|██████████| 79/79 [00:02<00:00, 28.60it/s, test_acc=0.881, test_loss=1.58]\n"
          ]
        },
        {
          "output_type": "stream",
          "name": "stdout",
          "text": [
            "EPOCH 9/30 :\n"
          ]
        },
        {
          "output_type": "stream",
          "name": "stderr",
          "text": [
            "  train: 100%|██████████| 469/469 [00:16<00:00, 27.68it/s, train_acc=0.891, train_loss=1.57]\n",
            "   test: 100%|██████████| 79/79 [00:02<00:00, 28.49it/s, test_acc=0.878, test_loss=1.58]\n"
          ]
        },
        {
          "output_type": "stream",
          "name": "stdout",
          "text": [
            "EPOCH 10/30 :\n"
          ]
        },
        {
          "output_type": "stream",
          "name": "stderr",
          "text": [
            "  train: 100%|██████████| 469/469 [00:17<00:00, 27.10it/s, train_acc=0.896, train_loss=1.57]\n",
            "   test: 100%|██████████| 79/79 [00:02<00:00, 30.34it/s, test_acc=0.887, test_loss=1.58]\n"
          ]
        },
        {
          "output_type": "stream",
          "name": "stdout",
          "text": [
            "EPOCH 11/30 :\n"
          ]
        },
        {
          "output_type": "stream",
          "name": "stderr",
          "text": [
            "  train: 100%|██████████| 469/469 [00:16<00:00, 27.76it/s, train_acc=0.897, train_loss=1.57]\n",
            "   test: 100%|██████████| 79/79 [00:03<00:00, 21.77it/s, test_acc=0.89, test_loss=1.57]\n"
          ]
        },
        {
          "output_type": "stream",
          "name": "stdout",
          "text": [
            "EPOCH 12/30 :\n"
          ]
        },
        {
          "output_type": "stream",
          "name": "stderr",
          "text": [
            "  train: 100%|██████████| 469/469 [00:16<00:00, 28.31it/s, train_acc=0.9, train_loss=1.56]\n",
            "   test: 100%|██████████| 79/79 [00:02<00:00, 30.57it/s, test_acc=0.892, test_loss=1.57]\n"
          ]
        },
        {
          "output_type": "stream",
          "name": "stdout",
          "text": [
            "EPOCH 13/30 :\n"
          ]
        },
        {
          "output_type": "stream",
          "name": "stderr",
          "text": [
            "  train: 100%|██████████| 469/469 [00:16<00:00, 28.43it/s, train_acc=0.905, train_loss=1.56]\n",
            "   test: 100%|██████████| 79/79 [00:03<00:00, 21.66it/s, test_acc=0.892, test_loss=1.57]\n"
          ]
        },
        {
          "output_type": "stream",
          "name": "stdout",
          "text": [
            "EPOCH 14/30 :\n"
          ]
        },
        {
          "output_type": "stream",
          "name": "stderr",
          "text": [
            "  train: 100%|██████████| 469/469 [00:16<00:00, 28.42it/s, train_acc=0.905, train_loss=1.56]\n",
            "   test: 100%|██████████| 79/79 [00:02<00:00, 30.62it/s, test_acc=0.891, test_loss=1.57]\n"
          ]
        },
        {
          "output_type": "stream",
          "name": "stdout",
          "text": [
            "EPOCH 15/30 :\n"
          ]
        },
        {
          "output_type": "stream",
          "name": "stderr",
          "text": [
            "  train: 100%|██████████| 469/469 [00:17<00:00, 27.53it/s, train_acc=0.907, train_loss=1.56]\n",
            "   test: 100%|██████████| 79/79 [00:03<00:00, 25.72it/s, test_acc=0.895, test_loss=1.57]\n"
          ]
        },
        {
          "output_type": "stream",
          "name": "stdout",
          "text": [
            "EPOCH 16/30 :\n"
          ]
        },
        {
          "output_type": "stream",
          "name": "stderr",
          "text": [
            "  train: 100%|██████████| 469/469 [00:16<00:00, 28.55it/s, train_acc=0.908, train_loss=1.55]\n",
            "   test: 100%|██████████| 79/79 [00:02<00:00, 30.65it/s, test_acc=0.902, test_loss=1.56]\n"
          ]
        },
        {
          "output_type": "stream",
          "name": "stdout",
          "text": [
            "EPOCH 17/30 :\n"
          ]
        },
        {
          "output_type": "stream",
          "name": "stderr",
          "text": [
            "  train: 100%|██████████| 469/469 [00:17<00:00, 27.17it/s, train_acc=0.911, train_loss=1.55]\n",
            "   test: 100%|██████████| 79/79 [00:02<00:00, 27.93it/s, test_acc=0.896, test_loss=1.57]\n"
          ]
        },
        {
          "output_type": "stream",
          "name": "stdout",
          "text": [
            "EPOCH 18/30 :\n"
          ]
        },
        {
          "output_type": "stream",
          "name": "stderr",
          "text": [
            "  train: 100%|██████████| 469/469 [00:16<00:00, 28.09it/s, train_acc=0.909, train_loss=1.55]\n",
            "   test: 100%|██████████| 79/79 [00:02<00:00, 30.92it/s, test_acc=0.899, test_loss=1.56]\n"
          ]
        },
        {
          "output_type": "stream",
          "name": "stdout",
          "text": [
            "EPOCH 19/30 :\n"
          ]
        },
        {
          "output_type": "stream",
          "name": "stderr",
          "text": [
            "  train: 100%|██████████| 469/469 [00:17<00:00, 26.66it/s, train_acc=0.912, train_loss=1.55]\n",
            "   test: 100%|██████████| 79/79 [00:02<00:00, 29.70it/s, test_acc=0.9, test_loss=1.56]\n"
          ]
        },
        {
          "output_type": "stream",
          "name": "stdout",
          "text": [
            "EPOCH 20/30 :\n"
          ]
        },
        {
          "output_type": "stream",
          "name": "stderr",
          "text": [
            "  train: 100%|██████████| 469/469 [00:16<00:00, 28.18it/s, train_acc=0.914, train_loss=1.55]\n",
            "   test: 100%|██████████| 79/79 [00:03<00:00, 25.48it/s, test_acc=0.899, test_loss=1.56]\n"
          ]
        },
        {
          "output_type": "stream",
          "name": "stdout",
          "text": [
            "EPOCH 21/30 :\n"
          ]
        },
        {
          "output_type": "stream",
          "name": "stderr",
          "text": [
            "  train: 100%|██████████| 469/469 [00:17<00:00, 26.20it/s, train_acc=0.915, train_loss=1.55]\n",
            "   test: 100%|██████████| 79/79 [00:02<00:00, 30.01it/s, test_acc=0.9, test_loss=1.56]\n"
          ]
        },
        {
          "output_type": "stream",
          "name": "stdout",
          "text": [
            "EPOCH 22/30 :\n"
          ]
        },
        {
          "output_type": "stream",
          "name": "stderr",
          "text": [
            "  train: 100%|██████████| 469/469 [00:16<00:00, 28.29it/s, train_acc=0.917, train_loss=1.54]\n",
            "   test: 100%|██████████| 79/79 [00:03<00:00, 22.37it/s, test_acc=0.902, test_loss=1.56]\n"
          ]
        },
        {
          "output_type": "stream",
          "name": "stdout",
          "text": [
            "EPOCH 23/30 :\n"
          ]
        },
        {
          "output_type": "stream",
          "name": "stderr",
          "text": [
            "  train: 100%|██████████| 469/469 [00:16<00:00, 28.49it/s, train_acc=0.921, train_loss=1.54]\n",
            "   test: 100%|██████████| 79/79 [00:02<00:00, 30.81it/s, test_acc=0.901, test_loss=1.56]\n"
          ]
        },
        {
          "output_type": "stream",
          "name": "stdout",
          "text": [
            "EPOCH 24/30 :\n"
          ]
        },
        {
          "output_type": "stream",
          "name": "stderr",
          "text": [
            "  train: 100%|██████████| 469/469 [00:16<00:00, 28.53it/s, train_acc=0.919, train_loss=1.54]\n",
            "   test: 100%|██████████| 79/79 [00:03<00:00, 21.51it/s, test_acc=0.9, test_loss=1.56]\n"
          ]
        },
        {
          "output_type": "stream",
          "name": "stdout",
          "text": [
            "EPOCH 25/30 :\n"
          ]
        },
        {
          "output_type": "stream",
          "name": "stderr",
          "text": [
            "  train: 100%|██████████| 469/469 [00:16<00:00, 28.17it/s, train_acc=0.921, train_loss=1.54]\n",
            "   test: 100%|██████████| 79/79 [00:02<00:00, 31.18it/s, test_acc=0.899, test_loss=1.56]\n"
          ]
        },
        {
          "output_type": "stream",
          "name": "stdout",
          "text": [
            "EPOCH 26/30 :\n"
          ]
        },
        {
          "output_type": "stream",
          "name": "stderr",
          "text": [
            "  train: 100%|██████████| 469/469 [00:17<00:00, 27.54it/s, train_acc=0.922, train_loss=1.54]\n",
            "   test: 100%|██████████| 79/79 [00:03<00:00, 25.88it/s, test_acc=0.907, test_loss=1.55]\n"
          ]
        },
        {
          "output_type": "stream",
          "name": "stdout",
          "text": [
            "EPOCH 27/30 :\n"
          ]
        },
        {
          "output_type": "stream",
          "name": "stderr",
          "text": [
            "  train: 100%|██████████| 469/469 [00:16<00:00, 28.39it/s, train_acc=0.924, train_loss=1.54]\n",
            "   test: 100%|██████████| 79/79 [00:02<00:00, 29.54it/s, test_acc=0.909, test_loss=1.55]\n"
          ]
        },
        {
          "output_type": "stream",
          "name": "stdout",
          "text": [
            "EPOCH 28/30 :\n"
          ]
        },
        {
          "output_type": "stream",
          "name": "stderr",
          "text": [
            "  train: 100%|██████████| 469/469 [00:17<00:00, 27.15it/s, train_acc=0.924, train_loss=1.54]\n",
            "   test: 100%|██████████| 79/79 [00:02<00:00, 29.37it/s, test_acc=0.906, test_loss=1.56]\n"
          ]
        },
        {
          "output_type": "stream",
          "name": "stdout",
          "text": [
            "EPOCH 29/30 :\n"
          ]
        },
        {
          "output_type": "stream",
          "name": "stderr",
          "text": [
            "  train: 100%|██████████| 469/469 [00:16<00:00, 28.41it/s, train_acc=0.927, train_loss=1.54]\n",
            "   test: 100%|██████████| 79/79 [00:02<00:00, 30.71it/s, test_acc=0.904, test_loss=1.56]\n"
          ]
        },
        {
          "output_type": "stream",
          "name": "stdout",
          "text": [
            "EPOCH 30/30 :\n"
          ]
        },
        {
          "output_type": "stream",
          "name": "stderr",
          "text": [
            "  train: 100%|██████████| 469/469 [00:17<00:00, 26.60it/s, train_acc=0.926, train_loss=1.54]\n",
            "   test: 100%|██████████| 79/79 [00:02<00:00, 29.23it/s, test_acc=0.911, test_loss=1.55]"
          ]
        },
        {
          "output_type": "stream",
          "name": "stdout",
          "text": [
            "\n",
            "\n",
            "Train time: 607.90227 seconds\n"
          ]
        },
        {
          "output_type": "stream",
          "name": "stderr",
          "text": [
            "\n"
          ]
        }
      ],
      "source": [
        "train_loss2, test_loss2, train_acc2, test_acc2 = fit(\n",
        "    model2, train_dataloader_FashionMNIST, test_dataloader_FashionMNIST, optimizer2, 30)"
      ]
    },
    {
      "cell_type": "code",
      "execution_count": null,
      "metadata": {
        "id": "U7FtrCT41lHC"
      },
      "outputs": [],
      "source": [
        "train_loss5, test_loss5, train_acc5, test_acc5 = fit(\n",
        "    model5, train_dataloader_FashionMNIST, test_dataloader_FashionMNIST, optimizer5, 30)"
      ]
    },
    {
      "cell_type": "code",
      "execution_count": 30,
      "metadata": {
        "id": "if_chL0Vek5d",
        "colab": {
          "base_uri": "https://localhost:8080/"
        },
        "outputId": "d839b444-87e2-4247-e286-426bee155194"
      },
      "outputs": [
        {
          "output_type": "stream",
          "name": "stdout",
          "text": [
            "EPOCH 1/30 :\n"
          ]
        },
        {
          "output_type": "stream",
          "name": "stderr",
          "text": [
            "  train: 100%|██████████| 469/469 [00:18<00:00, 24.72it/s, train_acc=0.62, train_loss=1.86]\n",
            "   test: 100%|██████████| 79/79 [00:02<00:00, 27.51it/s, test_acc=0.749, test_loss=1.72]\n"
          ]
        },
        {
          "output_type": "stream",
          "name": "stdout",
          "text": [
            "EPOCH 2/30 :\n"
          ]
        },
        {
          "output_type": "stream",
          "name": "stderr",
          "text": [
            "  train: 100%|██████████| 469/469 [00:16<00:00, 28.77it/s, train_acc=0.763, train_loss=1.7]\n",
            "   test: 100%|██████████| 79/79 [00:02<00:00, 30.59it/s, test_acc=0.782, test_loss=1.68]\n"
          ]
        },
        {
          "output_type": "stream",
          "name": "stdout",
          "text": [
            "EPOCH 3/30 :\n"
          ]
        },
        {
          "output_type": "stream",
          "name": "stderr",
          "text": [
            "  train: 100%|██████████| 469/469 [00:17<00:00, 27.11it/s, train_acc=0.787, train_loss=1.68]\n",
            "   test: 100%|██████████| 79/79 [00:02<00:00, 29.79it/s, test_acc=0.799, test_loss=1.66]\n"
          ]
        },
        {
          "output_type": "stream",
          "name": "stdout",
          "text": [
            "EPOCH 4/30 :\n"
          ]
        },
        {
          "output_type": "stream",
          "name": "stderr",
          "text": [
            "  train: 100%|██████████| 469/469 [00:16<00:00, 28.51it/s, train_acc=0.798, train_loss=1.66]\n",
            "   test: 100%|██████████| 79/79 [00:02<00:00, 28.96it/s, test_acc=0.807, test_loss=1.66]\n"
          ]
        },
        {
          "output_type": "stream",
          "name": "stdout",
          "text": [
            "EPOCH 5/30 :\n"
          ]
        },
        {
          "output_type": "stream",
          "name": "stderr",
          "text": [
            "  train: 100%|██████████| 469/469 [00:17<00:00, 27.07it/s, train_acc=0.808, train_loss=1.65]\n",
            "   test: 100%|██████████| 79/79 [00:02<00:00, 30.64it/s, test_acc=0.813, test_loss=1.65]\n"
          ]
        },
        {
          "output_type": "stream",
          "name": "stdout",
          "text": [
            "EPOCH 6/30 :\n"
          ]
        },
        {
          "output_type": "stream",
          "name": "stderr",
          "text": [
            "  train: 100%|██████████| 469/469 [00:16<00:00, 28.73it/s, train_acc=0.814, train_loss=1.65]\n",
            "   test: 100%|██████████| 79/79 [00:02<00:00, 29.41it/s, test_acc=0.819, test_loss=1.64]\n"
          ]
        },
        {
          "output_type": "stream",
          "name": "stdout",
          "text": [
            "EPOCH 7/30 :\n"
          ]
        },
        {
          "output_type": "stream",
          "name": "stderr",
          "text": [
            "  train: 100%|██████████| 469/469 [00:17<00:00, 26.79it/s, train_acc=0.818, train_loss=1.64]\n",
            "   test: 100%|██████████| 79/79 [00:02<00:00, 28.79it/s, test_acc=0.822, test_loss=1.64]\n"
          ]
        },
        {
          "output_type": "stream",
          "name": "stdout",
          "text": [
            "EPOCH 8/30 :\n"
          ]
        },
        {
          "output_type": "stream",
          "name": "stderr",
          "text": [
            "  train: 100%|██████████| 469/469 [00:29<00:00, 16.03it/s, train_acc=0.822, train_loss=1.64]\n",
            "   test: 100%|██████████| 79/79 [00:03<00:00, 24.38it/s, test_acc=0.824, test_loss=1.64]\n"
          ]
        },
        {
          "output_type": "stream",
          "name": "stdout",
          "text": [
            "EPOCH 9/30 :\n"
          ]
        },
        {
          "output_type": "stream",
          "name": "stderr",
          "text": [
            "  train: 100%|██████████| 469/469 [00:16<00:00, 27.63it/s, train_acc=0.826, train_loss=1.64]\n",
            "   test: 100%|██████████| 79/79 [00:02<00:00, 30.26it/s, test_acc=0.827, test_loss=1.64]\n"
          ]
        },
        {
          "output_type": "stream",
          "name": "stdout",
          "text": [
            "EPOCH 10/30 :\n"
          ]
        },
        {
          "output_type": "stream",
          "name": "stderr",
          "text": [
            "  train: 100%|██████████| 469/469 [00:16<00:00, 28.06it/s, train_acc=0.828, train_loss=1.63]\n",
            "   test: 100%|██████████| 79/79 [00:03<00:00, 21.50it/s, test_acc=0.832, test_loss=1.63]\n"
          ]
        },
        {
          "output_type": "stream",
          "name": "stdout",
          "text": [
            "EPOCH 11/30 :\n"
          ]
        },
        {
          "output_type": "stream",
          "name": "stderr",
          "text": [
            "  train: 100%|██████████| 469/469 [00:16<00:00, 28.66it/s, train_acc=0.831, train_loss=1.63]\n",
            "   test: 100%|██████████| 79/79 [00:02<00:00, 28.98it/s, test_acc=0.832, test_loss=1.63]\n"
          ]
        },
        {
          "output_type": "stream",
          "name": "stdout",
          "text": [
            "EPOCH 12/30 :\n"
          ]
        },
        {
          "output_type": "stream",
          "name": "stderr",
          "text": [
            "  train: 100%|██████████| 469/469 [00:17<00:00, 27.55it/s, train_acc=0.832, train_loss=1.63]\n",
            "   test: 100%|██████████| 79/79 [00:03<00:00, 24.29it/s, test_acc=0.83, test_loss=1.63]\n"
          ]
        },
        {
          "output_type": "stream",
          "name": "stdout",
          "text": [
            "EPOCH 13/30 :\n"
          ]
        },
        {
          "output_type": "stream",
          "name": "stderr",
          "text": [
            "  train: 100%|██████████| 469/469 [00:17<00:00, 27.32it/s, train_acc=0.833, train_loss=1.63]\n",
            "   test: 100%|██████████| 79/79 [00:02<00:00, 30.23it/s, test_acc=0.835, test_loss=1.63]\n"
          ]
        },
        {
          "output_type": "stream",
          "name": "stdout",
          "text": [
            "EPOCH 14/30 :\n"
          ]
        },
        {
          "output_type": "stream",
          "name": "stderr",
          "text": [
            "  train: 100%|██████████| 469/469 [00:17<00:00, 26.77it/s, train_acc=0.835, train_loss=1.63]\n",
            "   test: 100%|██████████| 79/79 [00:02<00:00, 29.97it/s, test_acc=0.835, test_loss=1.63]\n"
          ]
        },
        {
          "output_type": "stream",
          "name": "stdout",
          "text": [
            "EPOCH 15/30 :\n"
          ]
        },
        {
          "output_type": "stream",
          "name": "stderr",
          "text": [
            "  train: 100%|██████████| 469/469 [00:16<00:00, 27.78it/s, train_acc=0.837, train_loss=1.62]\n",
            "   test: 100%|██████████| 79/79 [00:02<00:00, 29.40it/s, test_acc=0.836, test_loss=1.63]\n"
          ]
        },
        {
          "output_type": "stream",
          "name": "stdout",
          "text": [
            "EPOCH 16/30 :\n"
          ]
        },
        {
          "output_type": "stream",
          "name": "stderr",
          "text": [
            "  train: 100%|██████████| 469/469 [00:17<00:00, 26.40it/s, train_acc=0.838, train_loss=1.62]\n",
            "   test: 100%|██████████| 79/79 [00:02<00:00, 29.97it/s, test_acc=0.837, test_loss=1.63]\n"
          ]
        },
        {
          "output_type": "stream",
          "name": "stdout",
          "text": [
            "EPOCH 17/30 :\n"
          ]
        },
        {
          "output_type": "stream",
          "name": "stderr",
          "text": [
            "  train: 100%|██████████| 469/469 [00:16<00:00, 28.34it/s, train_acc=0.841, train_loss=1.62]\n",
            "   test: 100%|██████████| 79/79 [00:03<00:00, 24.39it/s, test_acc=0.838, test_loss=1.62]\n"
          ]
        },
        {
          "output_type": "stream",
          "name": "stdout",
          "text": [
            "EPOCH 18/30 :\n"
          ]
        },
        {
          "output_type": "stream",
          "name": "stderr",
          "text": [
            "  train: 100%|██████████| 469/469 [00:17<00:00, 26.17it/s, train_acc=0.842, train_loss=1.62]\n",
            "   test: 100%|██████████| 79/79 [00:02<00:00, 30.30it/s, test_acc=0.84, test_loss=1.62]\n"
          ]
        },
        {
          "output_type": "stream",
          "name": "stdout",
          "text": [
            "EPOCH 19/30 :\n"
          ]
        },
        {
          "output_type": "stream",
          "name": "stderr",
          "text": [
            "  train: 100%|██████████| 469/469 [00:16<00:00, 27.67it/s, train_acc=0.843, train_loss=1.62]\n",
            "   test: 100%|██████████| 79/79 [00:03<00:00, 23.03it/s, test_acc=0.84, test_loss=1.62]\n"
          ]
        },
        {
          "output_type": "stream",
          "name": "stdout",
          "text": [
            "EPOCH 20/30 :\n"
          ]
        },
        {
          "output_type": "stream",
          "name": "stderr",
          "text": [
            "  train: 100%|██████████| 469/469 [00:16<00:00, 28.31it/s, train_acc=0.844, train_loss=1.62]\n",
            "   test: 100%|██████████| 79/79 [00:02<00:00, 29.10it/s, test_acc=0.84, test_loss=1.62]\n"
          ]
        },
        {
          "output_type": "stream",
          "name": "stdout",
          "text": [
            "EPOCH 21/30 :\n"
          ]
        },
        {
          "output_type": "stream",
          "name": "stderr",
          "text": [
            "  train: 100%|██████████| 469/469 [00:17<00:00, 26.74it/s, train_acc=0.846, train_loss=1.62]\n",
            "   test: 100%|██████████| 79/79 [00:02<00:00, 28.40it/s, test_acc=0.843, test_loss=1.62]\n"
          ]
        },
        {
          "output_type": "stream",
          "name": "stdout",
          "text": [
            "EPOCH 22/30 :\n"
          ]
        },
        {
          "output_type": "stream",
          "name": "stderr",
          "text": [
            "  train: 100%|██████████| 469/469 [00:16<00:00, 27.92it/s, train_acc=0.845, train_loss=1.62]\n",
            "   test: 100%|██████████| 79/79 [00:02<00:00, 29.65it/s, test_acc=0.843, test_loss=1.62]\n"
          ]
        },
        {
          "output_type": "stream",
          "name": "stdout",
          "text": [
            "EPOCH 23/30 :\n"
          ]
        },
        {
          "output_type": "stream",
          "name": "stderr",
          "text": [
            "  train: 100%|██████████| 469/469 [00:17<00:00, 26.95it/s, train_acc=0.847, train_loss=1.61]\n",
            "   test: 100%|██████████| 79/79 [00:02<00:00, 30.07it/s, test_acc=0.845, test_loss=1.62]\n"
          ]
        },
        {
          "output_type": "stream",
          "name": "stdout",
          "text": [
            "EPOCH 24/30 :\n"
          ]
        },
        {
          "output_type": "stream",
          "name": "stderr",
          "text": [
            "  train: 100%|██████████| 469/469 [00:16<00:00, 28.18it/s, train_acc=0.851, train_loss=1.61]\n",
            "   test: 100%|██████████| 79/79 [00:02<00:00, 29.75it/s, test_acc=0.855, test_loss=1.61]\n"
          ]
        },
        {
          "output_type": "stream",
          "name": "stdout",
          "text": [
            "EPOCH 25/30 :\n"
          ]
        },
        {
          "output_type": "stream",
          "name": "stderr",
          "text": [
            "  train: 100%|██████████| 469/469 [00:17<00:00, 26.54it/s, train_acc=0.874, train_loss=1.59]\n",
            "   test: 100%|██████████| 79/79 [00:02<00:00, 30.02it/s, test_acc=0.871, test_loss=1.59]\n"
          ]
        },
        {
          "output_type": "stream",
          "name": "stdout",
          "text": [
            "EPOCH 26/30 :\n"
          ]
        },
        {
          "output_type": "stream",
          "name": "stderr",
          "text": [
            "  train: 100%|██████████| 469/469 [00:16<00:00, 28.64it/s, train_acc=0.883, train_loss=1.58]\n",
            "   test: 100%|██████████| 79/79 [00:03<00:00, 25.90it/s, test_acc=0.884, test_loss=1.58]\n"
          ]
        },
        {
          "output_type": "stream",
          "name": "stdout",
          "text": [
            "EPOCH 27/30 :\n"
          ]
        },
        {
          "output_type": "stream",
          "name": "stderr",
          "text": [
            "  train: 100%|██████████| 469/469 [00:17<00:00, 27.47it/s, train_acc=0.889, train_loss=1.57]\n",
            "   test: 100%|██████████| 79/79 [00:02<00:00, 30.09it/s, test_acc=0.884, test_loss=1.58]\n"
          ]
        },
        {
          "output_type": "stream",
          "name": "stdout",
          "text": [
            "EPOCH 28/30 :\n"
          ]
        },
        {
          "output_type": "stream",
          "name": "stderr",
          "text": [
            "  train: 100%|██████████| 469/469 [00:16<00:00, 28.00it/s, train_acc=0.892, train_loss=1.57]\n",
            "   test: 100%|██████████| 79/79 [00:03<00:00, 21.56it/s, test_acc=0.882, test_loss=1.58]\n"
          ]
        },
        {
          "output_type": "stream",
          "name": "stdout",
          "text": [
            "EPOCH 29/30 :\n"
          ]
        },
        {
          "output_type": "stream",
          "name": "stderr",
          "text": [
            "  train: 100%|██████████| 469/469 [00:16<00:00, 27.95it/s, train_acc=0.895, train_loss=1.57]\n",
            "   test: 100%|██████████| 79/79 [00:02<00:00, 30.45it/s, test_acc=0.881, test_loss=1.58]\n"
          ]
        },
        {
          "output_type": "stream",
          "name": "stdout",
          "text": [
            "EPOCH 30/30 :\n"
          ]
        },
        {
          "output_type": "stream",
          "name": "stderr",
          "text": [
            "  train: 100%|██████████| 469/469 [00:19<00:00, 24.33it/s, train_acc=0.897, train_loss=1.57]\n",
            "   test: 100%|██████████| 79/79 [00:02<00:00, 28.71it/s, test_acc=0.889, test_loss=1.57]"
          ]
        },
        {
          "output_type": "stream",
          "name": "stdout",
          "text": [
            "\n",
            "\n",
            "Train time: 612.02169 seconds\n"
          ]
        },
        {
          "output_type": "stream",
          "name": "stderr",
          "text": [
            "\n"
          ]
        }
      ],
      "source": [
        "train_loss8, test_loss8, train_acc8, test_acc8 = fit(\n",
        "    model8, train_dataloader_FashionMNIST, test_dataloader_FashionMNIST, optimizer8, 30)"
      ]
    },
    {
      "cell_type": "markdown",
      "metadata": {
        "id": "B33KFFQC97bc"
      },
      "source": [
        "### Results for FashionMNIST dataset"
      ]
    },
    {
      "cell_type": "code",
      "execution_count": 31,
      "metadata": {
        "colab": {
          "base_uri": "https://localhost:8080/",
          "height": 953
        },
        "id": "EfqhZL6UmjOK",
        "outputId": "90654234-ead4-4b8d-d46b-cedcd9d8318d"
      },
      "outputs": [
        {
          "output_type": "display_data",
          "data": {
            "text/plain": [
              "<Figure size 1300x1000 with 4 Axes>"
            ],
            "image/png": "[encoded data removed]"
          },
          "metadata": {}
        }
      ],
      "source": [
        "accloss_plots(train_loss2, test_loss2, train_acc2, test_acc2,\n",
        "                  train_loss5, test_loss5, train_acc5, test_acc5,\n",
        "                  train_loss8, test_loss8, train_acc8, test_acc8)"
      ]
    },
    {
      "cell_type": "markdown",
      "metadata": {
        "id": "azayz9m8AW98"
      },
      "source": [
        "### Fit for CIFAR10 dataset"
      ]
    },
    {
      "cell_type": "code",
      "execution_count": 24,
      "metadata": {
        "colab": {
          "base_uri": "https://localhost:8080/"
        },
        "id": "N_90Rx_1s-N_",
        "outputId": "99b7d9b3-8426-4375-cc3f-16ec405ba706"
      },
      "outputs": [
        {
          "output_type": "stream",
          "name": "stdout",
          "text": [
            "EPOCH 1/40 :\n"
          ]
        },
        {
          "output_type": "stream",
          "name": "stderr",
          "text": [
            "  train: 100%|██████████| 391/391 [00:24<00:00, 15.79it/s, train_acc=0.415, train_loss=2.05]\n",
            "   test: 100%|██████████| 79/79 [00:03<00:00, 25.34it/s, test_acc=0.506, test_loss=1.95]\n"
          ]
        },
        {
          "output_type": "stream",
          "name": "stdout",
          "text": [
            "EPOCH 2/40 :\n"
          ]
        },
        {
          "output_type": "stream",
          "name": "stderr",
          "text": [
            "  train: 100%|██████████| 391/391 [00:16<00:00, 23.41it/s, train_acc=0.54, train_loss=1.92]\n",
            "   test: 100%|██████████| 79/79 [00:03<00:00, 20.33it/s, test_acc=0.579, test_loss=1.88]\n"
          ]
        },
        {
          "output_type": "stream",
          "name": "stdout",
          "text": [
            "EPOCH 3/40 :\n"
          ]
        },
        {
          "output_type": "stream",
          "name": "stderr",
          "text": [
            "  train: 100%|██████████| 391/391 [00:17<00:00, 21.85it/s, train_acc=0.586, train_loss=1.87]\n",
            "   test: 100%|██████████| 79/79 [00:03<00:00, 25.74it/s, test_acc=0.615, test_loss=1.85]\n"
          ]
        },
        {
          "output_type": "stream",
          "name": "stdout",
          "text": [
            "EPOCH 4/40 :\n"
          ]
        },
        {
          "output_type": "stream",
          "name": "stderr",
          "text": [
            "  train: 100%|██████████| 391/391 [00:17<00:00, 22.13it/s, train_acc=0.612, train_loss=1.85]\n",
            "   test: 100%|██████████| 79/79 [00:03<00:00, 25.64it/s, test_acc=0.634, test_loss=1.83]\n"
          ]
        },
        {
          "output_type": "stream",
          "name": "stdout",
          "text": [
            "EPOCH 5/40 :\n"
          ]
        },
        {
          "output_type": "stream",
          "name": "stderr",
          "text": [
            "  train: 100%|██████████| 391/391 [00:16<00:00, 23.48it/s, train_acc=0.634, train_loss=1.83]\n",
            "   test: 100%|██████████| 79/79 [00:03<00:00, 21.06it/s, test_acc=0.644, test_loss=1.82]\n"
          ]
        },
        {
          "output_type": "stream",
          "name": "stdout",
          "text": [
            "EPOCH 6/40 :\n"
          ]
        },
        {
          "output_type": "stream",
          "name": "stderr",
          "text": [
            "  train: 100%|██████████| 391/391 [00:17<00:00, 23.00it/s, train_acc=0.646, train_loss=1.82]\n",
            "   test: 100%|██████████| 79/79 [00:03<00:00, 25.44it/s, test_acc=0.664, test_loss=1.8]\n"
          ]
        },
        {
          "output_type": "stream",
          "name": "stdout",
          "text": [
            "EPOCH 7/40 :\n"
          ]
        },
        {
          "output_type": "stream",
          "name": "stderr",
          "text": [
            "  train: 100%|██████████| 391/391 [00:16<00:00, 23.09it/s, train_acc=0.665, train_loss=1.8]\n",
            "   test: 100%|██████████| 79/79 [00:04<00:00, 18.19it/s, test_acc=0.678, test_loss=1.78]\n"
          ]
        },
        {
          "output_type": "stream",
          "name": "stdout",
          "text": [
            "EPOCH 8/40 :\n"
          ]
        },
        {
          "output_type": "stream",
          "name": "stderr",
          "text": [
            "  train: 100%|██████████| 391/391 [00:16<00:00, 23.42it/s, train_acc=0.68, train_loss=1.78]\n",
            "   test: 100%|██████████| 79/79 [00:03<00:00, 25.49it/s, test_acc=0.677, test_loss=1.78]\n"
          ]
        },
        {
          "output_type": "stream",
          "name": "stdout",
          "text": [
            "EPOCH 9/40 :\n"
          ]
        },
        {
          "output_type": "stream",
          "name": "stderr",
          "text": [
            "  train: 100%|██████████| 391/391 [00:17<00:00, 22.19it/s, train_acc=0.695, train_loss=1.77]\n",
            "   test: 100%|██████████| 79/79 [00:03<00:00, 24.13it/s, test_acc=0.697, test_loss=1.76]\n"
          ]
        },
        {
          "output_type": "stream",
          "name": "stdout",
          "text": [
            "EPOCH 10/40 :\n"
          ]
        },
        {
          "output_type": "stream",
          "name": "stderr",
          "text": [
            "  train: 100%|██████████| 391/391 [00:16<00:00, 23.11it/s, train_acc=0.708, train_loss=1.75]\n",
            "   test: 100%|██████████| 79/79 [00:03<00:00, 25.19it/s, test_acc=0.7, test_loss=1.76]\n"
          ]
        },
        {
          "output_type": "stream",
          "name": "stdout",
          "text": [
            "EPOCH 11/40 :\n"
          ]
        },
        {
          "output_type": "stream",
          "name": "stderr",
          "text": [
            "  train: 100%|██████████| 391/391 [00:17<00:00, 22.02it/s, train_acc=0.721, train_loss=1.74]\n",
            "   test: 100%|██████████| 79/79 [00:03<00:00, 25.10it/s, test_acc=0.716, test_loss=1.75]\n"
          ]
        },
        {
          "output_type": "stream",
          "name": "stdout",
          "text": [
            "EPOCH 12/40 :\n"
          ]
        },
        {
          "output_type": "stream",
          "name": "stderr",
          "text": [
            "  train: 100%|██████████| 391/391 [00:16<00:00, 23.46it/s, train_acc=0.726, train_loss=1.74]\n",
            "   test: 100%|██████████| 79/79 [00:04<00:00, 18.85it/s, test_acc=0.702, test_loss=1.76]\n"
          ]
        },
        {
          "output_type": "stream",
          "name": "stdout",
          "text": [
            "EPOCH 13/40 :\n"
          ]
        },
        {
          "output_type": "stream",
          "name": "stderr",
          "text": [
            "  train: 100%|██████████| 391/391 [00:16<00:00, 23.15it/s, train_acc=0.735, train_loss=1.73]\n",
            "   test: 100%|██████████| 79/79 [00:03<00:00, 22.91it/s, test_acc=0.735, test_loss=1.73]\n"
          ]
        },
        {
          "output_type": "stream",
          "name": "stdout",
          "text": [
            "EPOCH 14/40 :\n"
          ]
        },
        {
          "output_type": "stream",
          "name": "stderr",
          "text": [
            "  train: 100%|██████████| 391/391 [00:17<00:00, 22.57it/s, train_acc=0.745, train_loss=1.72]\n",
            "   test: 100%|██████████| 79/79 [00:03<00:00, 21.90it/s, test_acc=0.705, test_loss=1.76]\n"
          ]
        },
        {
          "output_type": "stream",
          "name": "stdout",
          "text": [
            "EPOCH 15/40 :\n"
          ]
        },
        {
          "output_type": "stream",
          "name": "stderr",
          "text": [
            "  train: 100%|██████████| 391/391 [00:16<00:00, 23.43it/s, train_acc=0.753, train_loss=1.71]\n",
            "   test: 100%|██████████| 79/79 [00:03<00:00, 24.86it/s, test_acc=0.737, test_loss=1.73]\n"
          ]
        },
        {
          "output_type": "stream",
          "name": "stdout",
          "text": [
            "EPOCH 16/40 :\n"
          ]
        },
        {
          "output_type": "stream",
          "name": "stderr",
          "text": [
            "  train: 100%|██████████| 391/391 [00:17<00:00, 22.10it/s, train_acc=0.761, train_loss=1.7]\n",
            "   test: 100%|██████████| 79/79 [00:03<00:00, 25.62it/s, test_acc=0.744, test_loss=1.72]\n"
          ]
        },
        {
          "output_type": "stream",
          "name": "stdout",
          "text": [
            "EPOCH 17/40 :\n"
          ]
        },
        {
          "output_type": "stream",
          "name": "stderr",
          "text": [
            "  train: 100%|██████████| 391/391 [00:16<00:00, 23.19it/s, train_acc=0.766, train_loss=1.7]\n",
            "   test: 100%|██████████| 79/79 [00:03<00:00, 22.42it/s, test_acc=0.741, test_loss=1.72]\n"
          ]
        },
        {
          "output_type": "stream",
          "name": "stdout",
          "text": [
            "EPOCH 18/40 :\n"
          ]
        },
        {
          "output_type": "stream",
          "name": "stderr",
          "text": [
            "  train: 100%|██████████| 391/391 [00:17<00:00, 22.43it/s, train_acc=0.774, train_loss=1.69]\n",
            "   test: 100%|██████████| 79/79 [00:03<00:00, 24.29it/s, test_acc=0.748, test_loss=1.71]\n"
          ]
        },
        {
          "output_type": "stream",
          "name": "stdout",
          "text": [
            "EPOCH 19/40 :\n"
          ]
        },
        {
          "output_type": "stream",
          "name": "stderr",
          "text": [
            "  train: 100%|██████████| 391/391 [00:16<00:00, 23.25it/s, train_acc=0.779, train_loss=1.69]\n",
            "   test: 100%|██████████| 79/79 [00:04<00:00, 18.38it/s, test_acc=0.756, test_loss=1.71]\n"
          ]
        },
        {
          "output_type": "stream",
          "name": "stdout",
          "text": [
            "EPOCH 20/40 :\n"
          ]
        },
        {
          "output_type": "stream",
          "name": "stderr",
          "text": [
            "  train: 100%|██████████| 391/391 [00:16<00:00, 23.14it/s, train_acc=0.786, train_loss=1.68]\n",
            "   test: 100%|██████████| 79/79 [00:03<00:00, 24.57it/s, test_acc=0.753, test_loss=1.71]\n"
          ]
        },
        {
          "output_type": "stream",
          "name": "stdout",
          "text": [
            "EPOCH 21/40 :\n"
          ]
        },
        {
          "output_type": "stream",
          "name": "stderr",
          "text": [
            "  train: 100%|██████████| 391/391 [00:17<00:00, 21.88it/s, train_acc=0.792, train_loss=1.67]\n",
            "   test: 100%|██████████| 79/79 [00:03<00:00, 24.61it/s, test_acc=0.752, test_loss=1.71]\n"
          ]
        },
        {
          "output_type": "stream",
          "name": "stdout",
          "text": [
            "EPOCH 22/40 :\n"
          ]
        },
        {
          "output_type": "stream",
          "name": "stderr",
          "text": [
            "  train: 100%|██████████| 391/391 [00:16<00:00, 23.18it/s, train_acc=0.798, train_loss=1.67]\n",
            "   test: 100%|██████████| 79/79 [00:03<00:00, 23.05it/s, test_acc=0.768, test_loss=1.7]\n"
          ]
        },
        {
          "output_type": "stream",
          "name": "stdout",
          "text": [
            "EPOCH 23/40 :\n"
          ]
        },
        {
          "output_type": "stream",
          "name": "stderr",
          "text": [
            "  train: 100%|██████████| 391/391 [00:17<00:00, 22.46it/s, train_acc=0.799, train_loss=1.67]\n",
            "   test: 100%|██████████| 79/79 [00:03<00:00, 24.71it/s, test_acc=0.769, test_loss=1.69]\n"
          ]
        },
        {
          "output_type": "stream",
          "name": "stdout",
          "text": [
            "EPOCH 24/40 :\n"
          ]
        },
        {
          "output_type": "stream",
          "name": "stderr",
          "text": [
            "  train: 100%|██████████| 391/391 [00:16<00:00, 23.23it/s, train_acc=0.802, train_loss=1.66]\n",
            "   test: 100%|██████████| 79/79 [00:04<00:00, 18.62it/s, test_acc=0.772, test_loss=1.69]\n"
          ]
        },
        {
          "output_type": "stream",
          "name": "stdout",
          "text": [
            "EPOCH 25/40 :\n"
          ]
        },
        {
          "output_type": "stream",
          "name": "stderr",
          "text": [
            "  train: 100%|██████████| 391/391 [00:16<00:00, 23.29it/s, train_acc=0.81, train_loss=1.65]\n",
            "   test: 100%|██████████| 79/79 [00:03<00:00, 25.23it/s, test_acc=0.76, test_loss=1.7]\n"
          ]
        },
        {
          "output_type": "stream",
          "name": "stdout",
          "text": [
            "EPOCH 26/40 :\n"
          ]
        },
        {
          "output_type": "stream",
          "name": "stderr",
          "text": [
            "  train: 100%|██████████| 391/391 [00:18<00:00, 21.35it/s, train_acc=0.816, train_loss=1.65]\n",
            "   test: 100%|██████████| 79/79 [00:03<00:00, 24.95it/s, test_acc=0.766, test_loss=1.69]\n"
          ]
        },
        {
          "output_type": "stream",
          "name": "stdout",
          "text": [
            "EPOCH 27/40 :\n"
          ]
        },
        {
          "output_type": "stream",
          "name": "stderr",
          "text": [
            "  train: 100%|██████████| 391/391 [00:17<00:00, 22.70it/s, train_acc=0.817, train_loss=1.65]\n",
            "   test: 100%|██████████| 79/79 [00:03<00:00, 20.62it/s, test_acc=0.77, test_loss=1.69]\n"
          ]
        },
        {
          "output_type": "stream",
          "name": "stdout",
          "text": [
            "EPOCH 28/40 :\n"
          ]
        },
        {
          "output_type": "stream",
          "name": "stderr",
          "text": [
            "  train: 100%|██████████| 391/391 [00:17<00:00, 22.50it/s, train_acc=0.823, train_loss=1.64]\n",
            "   test: 100%|██████████| 79/79 [00:03<00:00, 24.44it/s, test_acc=0.777, test_loss=1.69]\n"
          ]
        },
        {
          "output_type": "stream",
          "name": "stdout",
          "text": [
            "EPOCH 29/40 :\n"
          ]
        },
        {
          "output_type": "stream",
          "name": "stderr",
          "text": [
            "  train: 100%|██████████| 391/391 [00:17<00:00, 21.99it/s, train_acc=0.827, train_loss=1.64]\n",
            "   test: 100%|██████████| 79/79 [00:03<00:00, 20.07it/s, test_acc=0.774, test_loss=1.69]\n"
          ]
        },
        {
          "output_type": "stream",
          "name": "stdout",
          "text": [
            "EPOCH 30/40 :\n"
          ]
        },
        {
          "output_type": "stream",
          "name": "stderr",
          "text": [
            "  train: 100%|██████████| 391/391 [00:17<00:00, 22.40it/s, train_acc=0.831, train_loss=1.63]\n",
            "   test: 100%|██████████| 79/79 [00:03<00:00, 23.91it/s, test_acc=0.784, test_loss=1.68]\n"
          ]
        },
        {
          "output_type": "stream",
          "name": "stdout",
          "text": [
            "EPOCH 31/40 :\n"
          ]
        },
        {
          "output_type": "stream",
          "name": "stderr",
          "text": [
            "  train: 100%|██████████| 391/391 [00:18<00:00, 21.28it/s, train_acc=0.833, train_loss=1.63]\n",
            "   test: 100%|██████████| 79/79 [00:03<00:00, 24.63it/s, test_acc=0.79, test_loss=1.68]\n"
          ]
        },
        {
          "output_type": "stream",
          "name": "stdout",
          "text": [
            "EPOCH 32/40 :\n"
          ]
        },
        {
          "output_type": "stream",
          "name": "stderr",
          "text": [
            "  train: 100%|██████████| 391/391 [00:17<00:00, 22.75it/s, train_acc=0.84, train_loss=1.63]\n",
            "   test: 100%|██████████| 79/79 [00:04<00:00, 18.36it/s, test_acc=0.783, test_loss=1.68]\n"
          ]
        },
        {
          "output_type": "stream",
          "name": "stdout",
          "text": [
            "EPOCH 33/40 :\n"
          ]
        },
        {
          "output_type": "stream",
          "name": "stderr",
          "text": [
            "  train: 100%|██████████| 391/391 [00:17<00:00, 22.71it/s, train_acc=0.844, train_loss=1.62]\n",
            "   test: 100%|██████████| 79/79 [00:03<00:00, 24.14it/s, test_acc=0.78, test_loss=1.68]\n"
          ]
        },
        {
          "output_type": "stream",
          "name": "stdout",
          "text": [
            "EPOCH 34/40 :\n"
          ]
        },
        {
          "output_type": "stream",
          "name": "stderr",
          "text": [
            "  train: 100%|██████████| 391/391 [00:18<00:00, 21.54it/s, train_acc=0.845, train_loss=1.62]\n",
            "   test: 100%|██████████| 79/79 [00:03<00:00, 24.88it/s, test_acc=0.78, test_loss=1.68]\n"
          ]
        },
        {
          "output_type": "stream",
          "name": "stdout",
          "text": [
            "EPOCH 35/40 :\n"
          ]
        },
        {
          "output_type": "stream",
          "name": "stderr",
          "text": [
            "  train: 100%|██████████| 391/391 [00:17<00:00, 22.57it/s, train_acc=0.848, train_loss=1.62]\n",
            "   test: 100%|██████████| 79/79 [00:03<00:00, 23.15it/s, test_acc=0.779, test_loss=1.68]\n"
          ]
        },
        {
          "output_type": "stream",
          "name": "stdout",
          "text": [
            "EPOCH 36/40 :\n"
          ]
        },
        {
          "output_type": "stream",
          "name": "stderr",
          "text": [
            "  train: 100%|██████████| 391/391 [00:17<00:00, 22.30it/s, train_acc=0.853, train_loss=1.61]\n",
            "   test: 100%|██████████| 79/79 [00:03<00:00, 24.13it/s, test_acc=0.79, test_loss=1.67]\n"
          ]
        },
        {
          "output_type": "stream",
          "name": "stdout",
          "text": [
            "EPOCH 37/40 :\n"
          ]
        },
        {
          "output_type": "stream",
          "name": "stderr",
          "text": [
            "  train: 100%|██████████| 391/391 [00:16<00:00, 23.36it/s, train_acc=0.856, train_loss=1.61]\n",
            "   test: 100%|██████████| 79/79 [00:04<00:00, 18.03it/s, test_acc=0.791, test_loss=1.67]\n"
          ]
        },
        {
          "output_type": "stream",
          "name": "stdout",
          "text": [
            "EPOCH 38/40 :\n"
          ]
        },
        {
          "output_type": "stream",
          "name": "stderr",
          "text": [
            "  train: 100%|██████████| 391/391 [00:17<00:00, 22.69it/s, train_acc=0.859, train_loss=1.61]\n",
            "   test: 100%|██████████| 79/79 [00:03<00:00, 21.50it/s, test_acc=0.795, test_loss=1.67]\n"
          ]
        },
        {
          "output_type": "stream",
          "name": "stdout",
          "text": [
            "EPOCH 39/40 :\n"
          ]
        },
        {
          "output_type": "stream",
          "name": "stderr",
          "text": [
            "  train: 100%|██████████| 391/391 [00:18<00:00, 21.22it/s, train_acc=0.862, train_loss=1.6]\n",
            "   test: 100%|██████████| 79/79 [00:03<00:00, 25.00it/s, test_acc=0.789, test_loss=1.67]\n"
          ]
        },
        {
          "output_type": "stream",
          "name": "stdout",
          "text": [
            "EPOCH 40/40 :\n"
          ]
        },
        {
          "output_type": "stream",
          "name": "stderr",
          "text": [
            "  train: 100%|██████████| 391/391 [00:17<00:00, 22.83it/s, train_acc=0.863, train_loss=1.6]\n",
            "   test: 100%|██████████| 79/79 [00:04<00:00, 19.57it/s, test_acc=0.791, test_loss=1.67]"
          ]
        },
        {
          "output_type": "stream",
          "name": "stdout",
          "text": [
            "\n",
            "\n",
            "Train time: 846.04462 seconds\n"
          ]
        },
        {
          "output_type": "stream",
          "name": "stderr",
          "text": [
            "\n"
          ]
        }
      ],
      "source": [
        "train_loss3, test_loss3, train_acc3, test_acc3 = fit(\n",
        "    model3, train_dataloader_CIFAR10, test_dataloader_CIFAR10, optimizer3, 40)"
      ]
    },
    {
      "cell_type": "code",
      "execution_count": 25,
      "metadata": {
        "id": "rDcsXJFh1lPU",
        "colab": {
          "base_uri": "https://localhost:8080/"
        },
        "outputId": "df72ff64-0834-429c-eb45-6003867da4d7"
      },
      "outputs": [
        {
          "output_type": "stream",
          "name": "stdout",
          "text": [
            "EPOCH 1/40 :\n"
          ]
        },
        {
          "output_type": "stream",
          "name": "stderr",
          "text": [
            "  train: 100%|██████████| 391/391 [00:17<00:00, 22.65it/s, train_acc=0.418, train_loss=2.04]\n",
            "   test: 100%|██████████| 79/79 [00:03<00:00, 24.46it/s, test_acc=0.511, test_loss=1.95]\n"
          ]
        },
        {
          "output_type": "stream",
          "name": "stdout",
          "text": [
            "EPOCH 2/40 :\n"
          ]
        },
        {
          "output_type": "stream",
          "name": "stderr",
          "text": [
            "  train: 100%|██████████| 391/391 [00:17<00:00, 22.42it/s, train_acc=0.548, train_loss=1.91]\n",
            "   test: 100%|██████████| 79/79 [00:03<00:00, 20.01it/s, test_acc=0.564, test_loss=1.9]\n"
          ]
        },
        {
          "output_type": "stream",
          "name": "stdout",
          "text": [
            "EPOCH 3/40 :\n"
          ]
        },
        {
          "output_type": "stream",
          "name": "stderr",
          "text": [
            "  train: 100%|██████████| 391/391 [00:16<00:00, 23.12it/s, train_acc=0.594, train_loss=1.87]\n",
            "   test: 100%|██████████| 79/79 [00:03<00:00, 25.11it/s, test_acc=0.626, test_loss=1.83]\n"
          ]
        },
        {
          "output_type": "stream",
          "name": "stdout",
          "text": [
            "EPOCH 4/40 :\n"
          ]
        },
        {
          "output_type": "stream",
          "name": "stderr",
          "text": [
            "  train: 100%|██████████| 391/391 [00:18<00:00, 21.49it/s, train_acc=0.613, train_loss=1.85]\n",
            "   test: 100%|██████████| 79/79 [00:03<00:00, 24.43it/s, test_acc=0.605, test_loss=1.85]\n"
          ]
        },
        {
          "output_type": "stream",
          "name": "stdout",
          "text": [
            "EPOCH 5/40 :\n"
          ]
        },
        {
          "output_type": "stream",
          "name": "stderr",
          "text": [
            "  train: 100%|██████████| 391/391 [00:16<00:00, 23.07it/s, train_acc=0.637, train_loss=1.82]\n",
            "   test: 100%|██████████| 79/79 [00:04<00:00, 18.99it/s, test_acc=0.665, test_loss=1.8]\n"
          ]
        },
        {
          "output_type": "stream",
          "name": "stdout",
          "text": [
            "EPOCH 6/40 :\n"
          ]
        },
        {
          "output_type": "stream",
          "name": "stderr",
          "text": [
            "  train: 100%|██████████| 391/391 [00:17<00:00, 22.63it/s, train_acc=0.658, train_loss=1.8]\n",
            "   test: 100%|██████████| 79/79 [00:03<00:00, 23.84it/s, test_acc=0.662, test_loss=1.8]\n"
          ]
        },
        {
          "output_type": "stream",
          "name": "stdout",
          "text": [
            "EPOCH 7/40 :\n"
          ]
        },
        {
          "output_type": "stream",
          "name": "stderr",
          "text": [
            "  train: 100%|██████████| 391/391 [00:17<00:00, 22.12it/s, train_acc=0.67, train_loss=1.79]\n",
            "   test: 100%|██████████| 79/79 [00:03<00:00, 21.39it/s, test_acc=0.667, test_loss=1.79]\n"
          ]
        },
        {
          "output_type": "stream",
          "name": "stdout",
          "text": [
            "EPOCH 8/40 :\n"
          ]
        },
        {
          "output_type": "stream",
          "name": "stderr",
          "text": [
            "  train: 100%|██████████| 391/391 [00:17<00:00, 22.57it/s, train_acc=0.685, train_loss=1.78]\n",
            "   test: 100%|██████████| 79/79 [00:03<00:00, 23.61it/s, test_acc=0.673, test_loss=1.79]\n"
          ]
        },
        {
          "output_type": "stream",
          "name": "stdout",
          "text": [
            "EPOCH 9/40 :\n"
          ]
        },
        {
          "output_type": "stream",
          "name": "stderr",
          "text": [
            "  train: 100%|██████████| 391/391 [00:18<00:00, 21.47it/s, train_acc=0.702, train_loss=1.76]\n",
            "   test: 100%|██████████| 79/79 [00:03<00:00, 24.73it/s, test_acc=0.697, test_loss=1.76]\n"
          ]
        },
        {
          "output_type": "stream",
          "name": "stdout",
          "text": [
            "EPOCH 10/40 :\n"
          ]
        },
        {
          "output_type": "stream",
          "name": "stderr",
          "text": [
            "  train: 100%|██████████| 391/391 [00:17<00:00, 22.45it/s, train_acc=0.712, train_loss=1.75]\n",
            "   test: 100%|██████████| 79/79 [00:04<00:00, 19.01it/s, test_acc=0.707, test_loss=1.75]\n"
          ]
        },
        {
          "output_type": "stream",
          "name": "stdout",
          "text": [
            "EPOCH 11/40 :\n"
          ]
        },
        {
          "output_type": "stream",
          "name": "stderr",
          "text": [
            "  train: 100%|██████████| 391/391 [00:17<00:00, 22.73it/s, train_acc=0.72, train_loss=1.74]\n",
            "   test: 100%|██████████| 79/79 [00:03<00:00, 24.92it/s, test_acc=0.709, test_loss=1.75]\n"
          ]
        },
        {
          "output_type": "stream",
          "name": "stdout",
          "text": [
            "EPOCH 12/40 :\n"
          ]
        },
        {
          "output_type": "stream",
          "name": "stderr",
          "text": [
            "  train: 100%|██████████| 391/391 [00:18<00:00, 21.55it/s, train_acc=0.728, train_loss=1.74]\n",
            "   test: 100%|██████████| 79/79 [00:03<00:00, 24.85it/s, test_acc=0.715, test_loss=1.75]\n"
          ]
        },
        {
          "output_type": "stream",
          "name": "stdout",
          "text": [
            "EPOCH 13/40 :\n"
          ]
        },
        {
          "output_type": "stream",
          "name": "stderr",
          "text": [
            "  train: 100%|██████████| 391/391 [00:17<00:00, 22.79it/s, train_acc=0.739, train_loss=1.72]\n",
            "   test: 100%|██████████| 79/79 [00:04<00:00, 19.42it/s, test_acc=0.729, test_loss=1.73]\n"
          ]
        },
        {
          "output_type": "stream",
          "name": "stdout",
          "text": [
            "EPOCH 14/40 :\n"
          ]
        },
        {
          "output_type": "stream",
          "name": "stderr",
          "text": [
            "  train: 100%|██████████| 391/391 [00:17<00:00, 22.40it/s, train_acc=0.748, train_loss=1.72]\n",
            "   test: 100%|██████████| 79/79 [00:03<00:00, 24.57it/s, test_acc=0.736, test_loss=1.73]\n"
          ]
        },
        {
          "output_type": "stream",
          "name": "stdout",
          "text": [
            "EPOCH 15/40 :\n"
          ]
        },
        {
          "output_type": "stream",
          "name": "stderr",
          "text": [
            "  train: 100%|██████████| 391/391 [00:18<00:00, 21.65it/s, train_acc=0.758, train_loss=1.71]\n",
            "   test: 100%|██████████| 79/79 [00:03<00:00, 23.18it/s, test_acc=0.719, test_loss=1.74]\n"
          ]
        },
        {
          "output_type": "stream",
          "name": "stdout",
          "text": [
            "EPOCH 16/40 :\n"
          ]
        },
        {
          "output_type": "stream",
          "name": "stderr",
          "text": [
            "  train: 100%|██████████| 391/391 [00:17<00:00, 22.85it/s, train_acc=0.765, train_loss=1.7]\n",
            "   test: 100%|██████████| 79/79 [00:03<00:00, 24.03it/s, test_acc=0.739, test_loss=1.72]\n"
          ]
        },
        {
          "output_type": "stream",
          "name": "stdout",
          "text": [
            "EPOCH 17/40 :\n"
          ]
        },
        {
          "output_type": "stream",
          "name": "stderr",
          "text": [
            "  train: 100%|██████████| 391/391 [00:18<00:00, 21.63it/s, train_acc=0.769, train_loss=1.69]\n",
            "   test: 100%|██████████| 79/79 [00:03<00:00, 24.66it/s, test_acc=0.75, test_loss=1.71]\n"
          ]
        },
        {
          "output_type": "stream",
          "name": "stdout",
          "text": [
            "EPOCH 18/40 :\n"
          ]
        },
        {
          "output_type": "stream",
          "name": "stderr",
          "text": [
            "  train: 100%|██████████| 391/391 [00:17<00:00, 22.89it/s, train_acc=0.773, train_loss=1.69]\n",
            "   test: 100%|██████████| 79/79 [00:04<00:00, 17.69it/s, test_acc=0.754, test_loss=1.71]\n"
          ]
        },
        {
          "output_type": "stream",
          "name": "stdout",
          "text": [
            "EPOCH 19/40 :\n"
          ]
        },
        {
          "output_type": "stream",
          "name": "stderr",
          "text": [
            "  train: 100%|██████████| 391/391 [00:17<00:00, 22.98it/s, train_acc=0.784, train_loss=1.68]\n",
            "   test: 100%|██████████| 79/79 [00:03<00:00, 23.90it/s, test_acc=0.756, test_loss=1.71]\n"
          ]
        },
        {
          "output_type": "stream",
          "name": "stdout",
          "text": [
            "EPOCH 20/40 :\n"
          ]
        },
        {
          "output_type": "stream",
          "name": "stderr",
          "text": [
            "  train: 100%|██████████| 391/391 [00:17<00:00, 21.73it/s, train_acc=0.787, train_loss=1.68]\n",
            "   test: 100%|██████████| 79/79 [00:03<00:00, 24.45it/s, test_acc=0.758, test_loss=1.7]\n"
          ]
        },
        {
          "output_type": "stream",
          "name": "stdout",
          "text": [
            "EPOCH 21/40 :\n"
          ]
        },
        {
          "output_type": "stream",
          "name": "stderr",
          "text": [
            "  train: 100%|██████████| 391/391 [00:17<00:00, 22.75it/s, train_acc=0.795, train_loss=1.67]\n",
            "   test: 100%|██████████| 79/79 [00:03<00:00, 21.98it/s, test_acc=0.764, test_loss=1.7]\n"
          ]
        },
        {
          "output_type": "stream",
          "name": "stdout",
          "text": [
            "EPOCH 22/40 :\n"
          ]
        },
        {
          "output_type": "stream",
          "name": "stderr",
          "text": [
            "  train: 100%|██████████| 391/391 [00:17<00:00, 21.92it/s, train_acc=0.799, train_loss=1.67]\n",
            "   test: 100%|██████████| 79/79 [00:03<00:00, 22.65it/s, test_acc=0.755, test_loss=1.71]\n"
          ]
        },
        {
          "output_type": "stream",
          "name": "stdout",
          "text": [
            "EPOCH 23/40 :\n"
          ]
        },
        {
          "output_type": "stream",
          "name": "stderr",
          "text": [
            "  train: 100%|██████████| 391/391 [00:17<00:00, 22.61it/s, train_acc=0.806, train_loss=1.66]\n",
            "   test: 100%|██████████| 79/79 [00:03<00:00, 20.29it/s, test_acc=0.763, test_loss=1.7]\n"
          ]
        },
        {
          "output_type": "stream",
          "name": "stdout",
          "text": [
            "EPOCH 24/40 :\n"
          ]
        },
        {
          "output_type": "stream",
          "name": "stderr",
          "text": [
            "  train: 100%|██████████| 391/391 [00:17<00:00, 22.98it/s, train_acc=0.809, train_loss=1.66]\n",
            "   test: 100%|██████████| 79/79 [00:03<00:00, 25.22it/s, test_acc=0.765, test_loss=1.7]\n"
          ]
        },
        {
          "output_type": "stream",
          "name": "stdout",
          "text": [
            "EPOCH 25/40 :\n"
          ]
        },
        {
          "output_type": "stream",
          "name": "stderr",
          "text": [
            "  train: 100%|██████████| 391/391 [00:18<00:00, 21.39it/s, train_acc=0.813, train_loss=1.65]\n",
            "   test: 100%|██████████| 79/79 [00:03<00:00, 24.91it/s, test_acc=0.771, test_loss=1.69]\n"
          ]
        },
        {
          "output_type": "stream",
          "name": "stdout",
          "text": [
            "EPOCH 26/40 :\n"
          ]
        },
        {
          "output_type": "stream",
          "name": "stderr",
          "text": [
            "  train: 100%|██████████| 391/391 [00:16<00:00, 23.10it/s, train_acc=0.818, train_loss=1.65]\n",
            "   test: 100%|██████████| 79/79 [00:04<00:00, 18.97it/s, test_acc=0.77, test_loss=1.69]\n"
          ]
        },
        {
          "output_type": "stream",
          "name": "stdout",
          "text": [
            "EPOCH 27/40 :\n"
          ]
        },
        {
          "output_type": "stream",
          "name": "stderr",
          "text": [
            "  train: 100%|██████████| 391/391 [00:17<00:00, 22.74it/s, train_acc=0.821, train_loss=1.64]\n",
            "   test: 100%|██████████| 79/79 [00:03<00:00, 24.87it/s, test_acc=0.772, test_loss=1.69]\n"
          ]
        },
        {
          "output_type": "stream",
          "name": "stdout",
          "text": [
            "EPOCH 28/40 :\n"
          ]
        },
        {
          "output_type": "stream",
          "name": "stderr",
          "text": [
            "  train: 100%|██████████| 391/391 [00:17<00:00, 21.98it/s, train_acc=0.827, train_loss=1.64]\n",
            "   test: 100%|██████████| 79/79 [00:03<00:00, 21.70it/s, test_acc=0.777, test_loss=1.68]\n"
          ]
        },
        {
          "output_type": "stream",
          "name": "stdout",
          "text": [
            "EPOCH 29/40 :\n"
          ]
        },
        {
          "output_type": "stream",
          "name": "stderr",
          "text": [
            "  train: 100%|██████████| 391/391 [00:16<00:00, 23.05it/s, train_acc=0.83, train_loss=1.64]\n",
            "   test: 100%|██████████| 79/79 [00:03<00:00, 24.10it/s, test_acc=0.784, test_loss=1.68]\n"
          ]
        },
        {
          "output_type": "stream",
          "name": "stdout",
          "text": [
            "EPOCH 30/40 :\n"
          ]
        },
        {
          "output_type": "stream",
          "name": "stderr",
          "text": [
            "  train: 100%|██████████| 391/391 [00:18<00:00, 21.50it/s, train_acc=0.835, train_loss=1.63]\n",
            "   test: 100%|██████████| 79/79 [00:03<00:00, 24.62it/s, test_acc=0.783, test_loss=1.68]\n"
          ]
        },
        {
          "output_type": "stream",
          "name": "stdout",
          "text": [
            "EPOCH 31/40 :\n"
          ]
        },
        {
          "output_type": "stream",
          "name": "stderr",
          "text": [
            "  train: 100%|██████████| 391/391 [00:17<00:00, 22.99it/s, train_acc=0.84, train_loss=1.63]\n",
            "   test: 100%|██████████| 79/79 [00:04<00:00, 18.40it/s, test_acc=0.782, test_loss=1.68]\n"
          ]
        },
        {
          "output_type": "stream",
          "name": "stdout",
          "text": [
            "EPOCH 32/40 :\n"
          ]
        },
        {
          "output_type": "stream",
          "name": "stderr",
          "text": [
            "  train: 100%|██████████| 391/391 [00:17<00:00, 22.74it/s, train_acc=0.844, train_loss=1.62]\n",
            "   test: 100%|██████████| 79/79 [00:03<00:00, 24.63it/s, test_acc=0.778, test_loss=1.68]\n"
          ]
        },
        {
          "output_type": "stream",
          "name": "stdout",
          "text": [
            "EPOCH 33/40 :\n"
          ]
        },
        {
          "output_type": "stream",
          "name": "stderr",
          "text": [
            "  train: 100%|██████████| 391/391 [00:18<00:00, 21.64it/s, train_acc=0.845, train_loss=1.62]\n",
            "   test: 100%|██████████| 79/79 [00:03<00:00, 24.83it/s, test_acc=0.777, test_loss=1.69]\n"
          ]
        },
        {
          "output_type": "stream",
          "name": "stdout",
          "text": [
            "EPOCH 34/40 :\n"
          ]
        },
        {
          "output_type": "stream",
          "name": "stderr",
          "text": [
            "  train: 100%|██████████| 391/391 [00:17<00:00, 22.80it/s, train_acc=0.849, train_loss=1.62]\n",
            "   test: 100%|██████████| 79/79 [00:03<00:00, 22.63it/s, test_acc=0.787, test_loss=1.68]\n"
          ]
        },
        {
          "output_type": "stream",
          "name": "stdout",
          "text": [
            "EPOCH 35/40 :\n"
          ]
        },
        {
          "output_type": "stream",
          "name": "stderr",
          "text": [
            "  train: 100%|██████████| 391/391 [00:17<00:00, 22.05it/s, train_acc=0.852, train_loss=1.61]\n",
            "   test: 100%|██████████| 79/79 [00:03<00:00, 24.81it/s, test_acc=0.784, test_loss=1.68]\n"
          ]
        },
        {
          "output_type": "stream",
          "name": "stdout",
          "text": [
            "EPOCH 36/40 :\n"
          ]
        },
        {
          "output_type": "stream",
          "name": "stderr",
          "text": [
            "  train: 100%|██████████| 391/391 [00:17<00:00, 22.67it/s, train_acc=0.856, train_loss=1.61]\n",
            "   test: 100%|██████████| 79/79 [00:04<00:00, 19.40it/s, test_acc=0.782, test_loss=1.68]\n"
          ]
        },
        {
          "output_type": "stream",
          "name": "stdout",
          "text": [
            "EPOCH 37/40 :\n"
          ]
        },
        {
          "output_type": "stream",
          "name": "stderr",
          "text": [
            "  train: 100%|██████████| 391/391 [00:17<00:00, 22.99it/s, train_acc=0.858, train_loss=1.61]\n",
            "   test: 100%|██████████| 79/79 [00:03<00:00, 24.45it/s, test_acc=0.789, test_loss=1.68]\n"
          ]
        },
        {
          "output_type": "stream",
          "name": "stdout",
          "text": [
            "EPOCH 38/40 :\n"
          ]
        },
        {
          "output_type": "stream",
          "name": "stderr",
          "text": [
            "  train: 100%|██████████| 391/391 [00:18<00:00, 21.52it/s, train_acc=0.862, train_loss=1.6]\n",
            "   test: 100%|██████████| 79/79 [00:03<00:00, 24.21it/s, test_acc=0.788, test_loss=1.67]\n"
          ]
        },
        {
          "output_type": "stream",
          "name": "stdout",
          "text": [
            "EPOCH 39/40 :\n"
          ]
        },
        {
          "output_type": "stream",
          "name": "stderr",
          "text": [
            "  train: 100%|██████████| 391/391 [00:17<00:00, 22.86it/s, train_acc=0.865, train_loss=1.6]\n",
            "   test: 100%|██████████| 79/79 [00:04<00:00, 18.56it/s, test_acc=0.795, test_loss=1.67]\n"
          ]
        },
        {
          "output_type": "stream",
          "name": "stdout",
          "text": [
            "EPOCH 40/40 :\n"
          ]
        },
        {
          "output_type": "stream",
          "name": "stderr",
          "text": [
            "  train: 100%|██████████| 391/391 [00:17<00:00, 22.99it/s, train_acc=0.869, train_loss=1.6]\n",
            "   test: 100%|██████████| 79/79 [00:03<00:00, 24.57it/s, test_acc=0.795, test_loss=1.67]"
          ]
        },
        {
          "output_type": "stream",
          "name": "stdout",
          "text": [
            "\n",
            "\n",
            "Train time: 839.68183 seconds\n"
          ]
        },
        {
          "output_type": "stream",
          "name": "stderr",
          "text": [
            "\n"
          ]
        }
      ],
      "source": [
        "train_loss6, test_loss6, train_acc6, test_acc6 = fit(\n",
        "    model6, train_dataloader_CIFAR10, test_dataloader_CIFAR10, optimizer6, 40)"
      ]
    },
    {
      "cell_type": "code",
      "execution_count": 26,
      "metadata": {
        "id": "epiiTPyZelCj",
        "colab": {
          "base_uri": "https://localhost:8080/"
        },
        "outputId": "39032346-ceab-4b14-911d-ba9d631bd8db"
      },
      "outputs": [
        {
          "output_type": "stream",
          "name": "stdout",
          "text": [
            "EPOCH 1/40 :\n"
          ]
        },
        {
          "output_type": "stream",
          "name": "stderr",
          "text": [
            "  train: 100%|██████████| 391/391 [00:17<00:00, 21.99it/s, train_acc=0.209, train_loss=2.23]\n",
            "   test: 100%|██████████| 79/79 [00:03<00:00, 22.91it/s, test_acc=0.346, test_loss=2.11]\n"
          ]
        },
        {
          "output_type": "stream",
          "name": "stdout",
          "text": [
            "EPOCH 2/40 :\n"
          ]
        },
        {
          "output_type": "stream",
          "name": "stderr",
          "text": [
            "  train: 100%|██████████| 391/391 [00:16<00:00, 23.53it/s, train_acc=0.342, train_loss=2.11]\n",
            "   test: 100%|██████████| 79/79 [00:03<00:00, 24.36it/s, test_acc=0.392, test_loss=2.07]\n"
          ]
        },
        {
          "output_type": "stream",
          "name": "stdout",
          "text": [
            "EPOCH 3/40 :\n"
          ]
        },
        {
          "output_type": "stream",
          "name": "stderr",
          "text": [
            "  train: 100%|██████████| 391/391 [00:17<00:00, 22.00it/s, train_acc=0.402, train_loss=2.06]\n",
            "   test: 100%|██████████| 79/79 [00:03<00:00, 24.81it/s, test_acc=0.449, test_loss=2.01]\n"
          ]
        },
        {
          "output_type": "stream",
          "name": "stdout",
          "text": [
            "EPOCH 4/40 :\n"
          ]
        },
        {
          "output_type": "stream",
          "name": "stderr",
          "text": [
            "  train: 100%|██████████| 391/391 [00:16<00:00, 23.37it/s, train_acc=0.448, train_loss=2.01]\n",
            "   test: 100%|██████████| 79/79 [00:04<00:00, 18.51it/s, test_acc=0.47, test_loss=1.99]\n"
          ]
        },
        {
          "output_type": "stream",
          "name": "stdout",
          "text": [
            "EPOCH 5/40 :\n"
          ]
        },
        {
          "output_type": "stream",
          "name": "stderr",
          "text": [
            "  train: 100%|██████████| 391/391 [00:16<00:00, 23.04it/s, train_acc=0.487, train_loss=1.97]\n",
            "   test: 100%|██████████| 79/79 [00:03<00:00, 24.92it/s, test_acc=0.517, test_loss=1.94]\n"
          ]
        },
        {
          "output_type": "stream",
          "name": "stdout",
          "text": [
            "EPOCH 6/40 :\n"
          ]
        },
        {
          "output_type": "stream",
          "name": "stderr",
          "text": [
            "  train: 100%|██████████| 391/391 [00:17<00:00, 22.52it/s, train_acc=0.519, train_loss=1.94]\n",
            "   test: 100%|██████████| 79/79 [00:03<00:00, 21.52it/s, test_acc=0.536, test_loss=1.92]\n"
          ]
        },
        {
          "output_type": "stream",
          "name": "stdout",
          "text": [
            "EPOCH 7/40 :\n"
          ]
        },
        {
          "output_type": "stream",
          "name": "stderr",
          "text": [
            "  train: 100%|██████████| 391/391 [00:17<00:00, 22.83it/s, train_acc=0.548, train_loss=1.91]\n",
            "   test: 100%|██████████| 79/79 [00:03<00:00, 25.18it/s, test_acc=0.574, test_loss=1.89]\n"
          ]
        },
        {
          "output_type": "stream",
          "name": "stdout",
          "text": [
            "EPOCH 8/40 :\n"
          ]
        },
        {
          "output_type": "stream",
          "name": "stderr",
          "text": [
            "  train: 100%|██████████| 391/391 [00:17<00:00, 21.87it/s, train_acc=0.57, train_loss=1.89]\n",
            "   test: 100%|██████████| 79/79 [00:03<00:00, 24.93it/s, test_acc=0.586, test_loss=1.88]\n"
          ]
        },
        {
          "output_type": "stream",
          "name": "stdout",
          "text": [
            "EPOCH 9/40 :\n"
          ]
        },
        {
          "output_type": "stream",
          "name": "stderr",
          "text": [
            "  train: 100%|██████████| 391/391 [00:16<00:00, 23.22it/s, train_acc=0.598, train_loss=1.87]\n",
            "   test: 100%|██████████| 79/79 [00:04<00:00, 19.28it/s, test_acc=0.621, test_loss=1.84]\n"
          ]
        },
        {
          "output_type": "stream",
          "name": "stdout",
          "text": [
            "EPOCH 10/40 :\n"
          ]
        },
        {
          "output_type": "stream",
          "name": "stderr",
          "text": [
            "  train: 100%|██████████| 391/391 [00:16<00:00, 23.13it/s, train_acc=0.612, train_loss=1.85]\n",
            "   test: 100%|██████████| 79/79 [00:03<00:00, 25.14it/s, test_acc=0.625, test_loss=1.84]\n"
          ]
        },
        {
          "output_type": "stream",
          "name": "stdout",
          "text": [
            "EPOCH 11/40 :\n"
          ]
        },
        {
          "output_type": "stream",
          "name": "stderr",
          "text": [
            "  train: 100%|██████████| 391/391 [00:17<00:00, 22.78it/s, train_acc=0.631, train_loss=1.83]\n",
            "   test: 100%|██████████| 79/79 [00:03<00:00, 20.83it/s, test_acc=0.639, test_loss=1.82]\n"
          ]
        },
        {
          "output_type": "stream",
          "name": "stdout",
          "text": [
            "EPOCH 12/40 :\n"
          ]
        },
        {
          "output_type": "stream",
          "name": "stderr",
          "text": [
            "  train: 100%|██████████| 391/391 [00:16<00:00, 23.05it/s, train_acc=0.645, train_loss=1.82]\n",
            "   test: 100%|██████████| 79/79 [00:03<00:00, 24.96it/s, test_acc=0.626, test_loss=1.84]\n"
          ]
        },
        {
          "output_type": "stream",
          "name": "stdout",
          "text": [
            "EPOCH 13/40 :\n"
          ]
        },
        {
          "output_type": "stream",
          "name": "stderr",
          "text": [
            "  train: 100%|██████████| 391/391 [00:18<00:00, 21.62it/s, train_acc=0.658, train_loss=1.8]\n",
            "   test: 100%|██████████| 79/79 [00:03<00:00, 24.89it/s, test_acc=0.642, test_loss=1.82]\n"
          ]
        },
        {
          "output_type": "stream",
          "name": "stdout",
          "text": [
            "EPOCH 14/40 :\n"
          ]
        },
        {
          "output_type": "stream",
          "name": "stderr",
          "text": [
            "  train: 100%|██████████| 391/391 [00:16<00:00, 23.30it/s, train_acc=0.671, train_loss=1.79]\n",
            "   test: 100%|██████████| 79/79 [00:03<00:00, 20.74it/s, test_acc=0.667, test_loss=1.8]\n"
          ]
        },
        {
          "output_type": "stream",
          "name": "stdout",
          "text": [
            "EPOCH 15/40 :\n"
          ]
        },
        {
          "output_type": "stream",
          "name": "stderr",
          "text": [
            "  train: 100%|██████████| 391/391 [00:17<00:00, 22.66it/s, train_acc=0.682, train_loss=1.78]\n",
            "   test: 100%|██████████| 79/79 [00:03<00:00, 24.85it/s, test_acc=0.674, test_loss=1.79]\n"
          ]
        },
        {
          "output_type": "stream",
          "name": "stdout",
          "text": [
            "EPOCH 16/40 :\n"
          ]
        },
        {
          "output_type": "stream",
          "name": "stderr",
          "text": [
            "  train: 100%|██████████| 391/391 [00:17<00:00, 22.82it/s, train_acc=0.692, train_loss=1.77]\n",
            "   test: 100%|██████████| 79/79 [00:04<00:00, 18.73it/s, test_acc=0.687, test_loss=1.78]\n"
          ]
        },
        {
          "output_type": "stream",
          "name": "stdout",
          "text": [
            "EPOCH 17/40 :\n"
          ]
        },
        {
          "output_type": "stream",
          "name": "stderr",
          "text": [
            "  train: 100%|██████████| 391/391 [00:16<00:00, 23.49it/s, train_acc=0.698, train_loss=1.76]\n",
            "   test: 100%|██████████| 79/79 [00:03<00:00, 25.77it/s, test_acc=0.682, test_loss=1.78]\n"
          ]
        },
        {
          "output_type": "stream",
          "name": "stdout",
          "text": [
            "EPOCH 18/40 :\n"
          ]
        },
        {
          "output_type": "stream",
          "name": "stderr",
          "text": [
            "  train: 100%|██████████| 391/391 [00:17<00:00, 22.32it/s, train_acc=0.709, train_loss=1.75]\n",
            "   test: 100%|██████████| 79/79 [00:03<00:00, 25.45it/s, test_acc=0.702, test_loss=1.76]\n"
          ]
        },
        {
          "output_type": "stream",
          "name": "stdout",
          "text": [
            "EPOCH 19/40 :\n"
          ]
        },
        {
          "output_type": "stream",
          "name": "stderr",
          "text": [
            "  train: 100%|██████████| 391/391 [00:16<00:00, 23.55it/s, train_acc=0.72, train_loss=1.74]\n",
            "   test: 100%|██████████| 79/79 [00:03<00:00, 25.43it/s, test_acc=0.706, test_loss=1.76]\n"
          ]
        },
        {
          "output_type": "stream",
          "name": "stdout",
          "text": [
            "EPOCH 20/40 :\n"
          ]
        },
        {
          "output_type": "stream",
          "name": "stderr",
          "text": [
            "  train: 100%|██████████| 391/391 [00:17<00:00, 22.26it/s, train_acc=0.728, train_loss=1.74]\n",
            "   test: 100%|██████████| 79/79 [00:03<00:00, 25.04it/s, test_acc=0.704, test_loss=1.76]\n"
          ]
        },
        {
          "output_type": "stream",
          "name": "stdout",
          "text": [
            "EPOCH 21/40 :\n"
          ]
        },
        {
          "output_type": "stream",
          "name": "stderr",
          "text": [
            "  train: 100%|██████████| 391/391 [00:16<00:00, 23.62it/s, train_acc=0.734, train_loss=1.73]\n",
            "   test: 100%|██████████| 79/79 [00:04<00:00, 18.75it/s, test_acc=0.713, test_loss=1.75]\n"
          ]
        },
        {
          "output_type": "stream",
          "name": "stdout",
          "text": [
            "EPOCH 22/40 :\n"
          ]
        },
        {
          "output_type": "stream",
          "name": "stderr",
          "text": [
            "  train: 100%|██████████| 391/391 [00:16<00:00, 23.16it/s, train_acc=0.744, train_loss=1.72]\n",
            "   test: 100%|██████████| 79/79 [00:03<00:00, 25.26it/s, test_acc=0.714, test_loss=1.75]\n"
          ]
        },
        {
          "output_type": "stream",
          "name": "stdout",
          "text": [
            "EPOCH 23/40 :\n"
          ]
        },
        {
          "output_type": "stream",
          "name": "stderr",
          "text": [
            "  train: 100%|██████████| 391/391 [00:16<00:00, 23.16it/s, train_acc=0.75, train_loss=1.71]\n",
            "   test: 100%|██████████| 79/79 [00:03<00:00, 20.22it/s, test_acc=0.716, test_loss=1.75]\n"
          ]
        },
        {
          "output_type": "stream",
          "name": "stdout",
          "text": [
            "EPOCH 24/40 :\n"
          ]
        },
        {
          "output_type": "stream",
          "name": "stderr",
          "text": [
            "  train: 100%|██████████| 391/391 [00:16<00:00, 23.65it/s, train_acc=0.755, train_loss=1.71]\n",
            "   test: 100%|██████████| 79/79 [00:03<00:00, 24.69it/s, test_acc=0.733, test_loss=1.73]\n"
          ]
        },
        {
          "output_type": "stream",
          "name": "stdout",
          "text": [
            "EPOCH 25/40 :\n"
          ]
        },
        {
          "output_type": "stream",
          "name": "stderr",
          "text": [
            "  train: 100%|██████████| 391/391 [00:17<00:00, 22.22it/s, train_acc=0.76, train_loss=1.7]\n",
            "   test: 100%|██████████| 79/79 [00:03<00:00, 25.35it/s, test_acc=0.734, test_loss=1.73]\n"
          ]
        },
        {
          "output_type": "stream",
          "name": "stdout",
          "text": [
            "EPOCH 26/40 :\n"
          ]
        },
        {
          "output_type": "stream",
          "name": "stderr",
          "text": [
            "  train: 100%|██████████| 391/391 [00:16<00:00, 23.51it/s, train_acc=0.769, train_loss=1.7]\n",
            "   test: 100%|██████████| 79/79 [00:03<00:00, 24.21it/s, test_acc=0.737, test_loss=1.73]\n"
          ]
        },
        {
          "output_type": "stream",
          "name": "stdout",
          "text": [
            "EPOCH 27/40 :\n"
          ]
        },
        {
          "output_type": "stream",
          "name": "stderr",
          "text": [
            "  train: 100%|██████████| 391/391 [00:17<00:00, 22.06it/s, train_acc=0.775, train_loss=1.69]\n",
            "   test: 100%|██████████| 79/79 [00:03<00:00, 24.84it/s, test_acc=0.737, test_loss=1.73]\n"
          ]
        },
        {
          "output_type": "stream",
          "name": "stdout",
          "text": [
            "EPOCH 28/40 :\n"
          ]
        },
        {
          "output_type": "stream",
          "name": "stderr",
          "text": [
            "  train: 100%|██████████| 391/391 [00:16<00:00, 23.64it/s, train_acc=0.779, train_loss=1.69]\n",
            "   test: 100%|██████████| 79/79 [00:04<00:00, 18.78it/s, test_acc=0.736, test_loss=1.73]\n"
          ]
        },
        {
          "output_type": "stream",
          "name": "stdout",
          "text": [
            "EPOCH 29/40 :\n"
          ]
        },
        {
          "output_type": "stream",
          "name": "stderr",
          "text": [
            "  train: 100%|██████████| 391/391 [00:16<00:00, 23.40it/s, train_acc=0.783, train_loss=1.68]\n",
            "   test: 100%|██████████| 79/79 [00:03<00:00, 25.68it/s, test_acc=0.742, test_loss=1.72]\n"
          ]
        },
        {
          "output_type": "stream",
          "name": "stdout",
          "text": [
            "EPOCH 30/40 :\n"
          ]
        },
        {
          "output_type": "stream",
          "name": "stderr",
          "text": [
            "  train: 100%|██████████| 391/391 [00:16<00:00, 23.05it/s, train_acc=0.789, train_loss=1.68]\n",
            "   test: 100%|██████████| 79/79 [00:03<00:00, 20.57it/s, test_acc=0.744, test_loss=1.72]\n"
          ]
        },
        {
          "output_type": "stream",
          "name": "stdout",
          "text": [
            "EPOCH 31/40 :\n"
          ]
        },
        {
          "output_type": "stream",
          "name": "stderr",
          "text": [
            "  train: 100%|██████████| 391/391 [00:16<00:00, 23.42it/s, train_acc=0.794, train_loss=1.67]\n",
            "   test: 100%|██████████| 79/79 [00:03<00:00, 25.11it/s, test_acc=0.743, test_loss=1.72]\n"
          ]
        },
        {
          "output_type": "stream",
          "name": "stdout",
          "text": [
            "EPOCH 32/40 :\n"
          ]
        },
        {
          "output_type": "stream",
          "name": "stderr",
          "text": [
            "  train: 100%|██████████| 391/391 [00:17<00:00, 22.00it/s, train_acc=0.8, train_loss=1.66]\n",
            "   test: 100%|██████████| 79/79 [00:03<00:00, 25.05it/s, test_acc=0.753, test_loss=1.71]\n"
          ]
        },
        {
          "output_type": "stream",
          "name": "stdout",
          "text": [
            "EPOCH 33/40 :\n"
          ]
        },
        {
          "output_type": "stream",
          "name": "stderr",
          "text": [
            "  train: 100%|██████████| 391/391 [00:16<00:00, 23.32it/s, train_acc=0.802, train_loss=1.66]\n",
            "   test: 100%|██████████| 79/79 [00:03<00:00, 20.22it/s, test_acc=0.744, test_loss=1.72]\n"
          ]
        },
        {
          "output_type": "stream",
          "name": "stdout",
          "text": [
            "EPOCH 34/40 :\n"
          ]
        },
        {
          "output_type": "stream",
          "name": "stderr",
          "text": [
            "  train: 100%|██████████| 391/391 [00:17<00:00, 22.50it/s, train_acc=0.807, train_loss=1.66]\n",
            "   test: 100%|██████████| 79/79 [00:03<00:00, 24.99it/s, test_acc=0.751, test_loss=1.71]\n"
          ]
        },
        {
          "output_type": "stream",
          "name": "stdout",
          "text": [
            "EPOCH 35/40 :\n"
          ]
        },
        {
          "output_type": "stream",
          "name": "stderr",
          "text": [
            "  train: 100%|██████████| 391/391 [00:16<00:00, 23.07it/s, train_acc=0.81, train_loss=1.65]\n",
            "   test: 100%|██████████| 79/79 [00:04<00:00, 19.22it/s, test_acc=0.75, test_loss=1.71]\n"
          ]
        },
        {
          "output_type": "stream",
          "name": "stdout",
          "text": [
            "EPOCH 36/40 :\n"
          ]
        },
        {
          "output_type": "stream",
          "name": "stderr",
          "text": [
            "  train: 100%|██████████| 391/391 [00:16<00:00, 23.17it/s, train_acc=0.815, train_loss=1.65]\n",
            "   test: 100%|██████████| 79/79 [00:03<00:00, 24.85it/s, test_acc=0.757, test_loss=1.7]\n"
          ]
        },
        {
          "output_type": "stream",
          "name": "stdout",
          "text": [
            "EPOCH 37/40 :\n"
          ]
        },
        {
          "output_type": "stream",
          "name": "stderr",
          "text": [
            "  train: 100%|██████████| 391/391 [00:17<00:00, 21.84it/s, train_acc=0.82, train_loss=1.65]\n",
            "   test: 100%|██████████| 79/79 [00:03<00:00, 22.98it/s, test_acc=0.754, test_loss=1.7]\n"
          ]
        },
        {
          "output_type": "stream",
          "name": "stdout",
          "text": [
            "EPOCH 38/40 :\n"
          ]
        },
        {
          "output_type": "stream",
          "name": "stderr",
          "text": [
            "  train: 100%|██████████| 391/391 [00:16<00:00, 23.22it/s, train_acc=0.822, train_loss=1.64]\n",
            "   test: 100%|██████████| 79/79 [00:03<00:00, 21.36it/s, test_acc=0.759, test_loss=1.7]\n"
          ]
        },
        {
          "output_type": "stream",
          "name": "stdout",
          "text": [
            "EPOCH 39/40 :\n"
          ]
        },
        {
          "output_type": "stream",
          "name": "stderr",
          "text": [
            "  train: 100%|██████████| 391/391 [00:17<00:00, 22.44it/s, train_acc=0.828, train_loss=1.64]\n",
            "   test: 100%|██████████| 79/79 [00:03<00:00, 24.80it/s, test_acc=0.759, test_loss=1.7]\n"
          ]
        },
        {
          "output_type": "stream",
          "name": "stdout",
          "text": [
            "EPOCH 40/40 :\n"
          ]
        },
        {
          "output_type": "stream",
          "name": "stderr",
          "text": [
            "  train: 100%|██████████| 391/391 [00:16<00:00, 23.46it/s, train_acc=0.828, train_loss=1.64]\n",
            "   test: 100%|██████████| 79/79 [00:04<00:00, 18.38it/s, test_acc=0.764, test_loss=1.7]"
          ]
        },
        {
          "output_type": "stream",
          "name": "stdout",
          "text": [
            "\n",
            "\n",
            "Train time: 823.95273 seconds\n"
          ]
        },
        {
          "output_type": "stream",
          "name": "stderr",
          "text": [
            "\n"
          ]
        }
      ],
      "source": [
        "train_loss9, test_loss9, train_acc9, test_acc9 = fit(\n",
        "    model9, train_dataloader_CIFAR10, test_dataloader_CIFAR10, optimizer9, 40)"
      ]
    },
    {
      "cell_type": "markdown",
      "metadata": {
        "id": "SRGc4wPjAd1o"
      },
      "source": [
        "### Results for CIFAR10 dataset"
      ]
    },
    {
      "cell_type": "code",
      "execution_count": 27,
      "metadata": {
        "colab": {
          "base_uri": "https://localhost:8080/",
          "height": 953
        },
        "id": "FCuDbPWznpS-",
        "outputId": "60ddc9a2-c166-4f33-b581-146f04fc4316"
      },
      "outputs": [
        {
          "output_type": "display_data",
          "data": {
            "text/plain": [
              "<Figure size 1300x1000 with 4 Axes>"
            ],
            "image/png": "[encoded data removed]"
          },
          "metadata": {}
        }
      ],
      "source": [
        "accloss_plots(train_loss3, test_loss3, train_acc3, test_acc3,\n",
        "                  train_loss6, test_loss6, train_acc6, test_acc6,\n",
        "                  train_loss9, test_loss9, train_acc9, test_acc9)"
      ]
    },
    {
      "cell_type": "code",
      "source": [],
      "metadata": {
        "id": "5NQPTtcewo15"
      },
      "execution_count": null,
      "outputs": []
    }
  ],
  "metadata": {
    "accelerator": "GPU",
    "colab": {
      "provenance": []
    },
    "gpuClass": "standard",
    "kernelspec": {
      "display_name": "Python 3 (ipykernel)",
      "language": "python",
      "name": "python3"
    },
    "language_info": {
      "codemirror_mode": {
        "name": "ipython",
        "version": 3
      },
      "file_extension": ".py",
      "mimetype": "text/x-python",
      "name": "python",
      "nbconvert_exporter": "python",
      "pygments_lexer": "ipython3",
      "version": "3.10.2"
    }
  },
  "nbformat": 4,
  "nbformat_minor": 0
}